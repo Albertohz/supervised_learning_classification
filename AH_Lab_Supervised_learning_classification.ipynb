{
  "cells": [
    {
      "cell_type": "markdown",
      "metadata": {
        "id": "vK5KBw48tNER"
      },
      "source": [
        "# Before your start:\n",
        "- Read the README.md file\n",
        "- Comment as much as you can and use the resources in the README.md file\n",
        "- Happy learning!"
      ]
    },
    {
      "cell_type": "code",
      "execution_count": 1,
      "metadata": {
        "id": "_XVwtXPvtNET"
      },
      "outputs": [],
      "source": [
        "# Import your libraries:\n",
        "\n",
        "%matplotlib inline\n",
        "\n",
        "import numpy as np\n",
        "import pandas as pd"
      ]
    },
    {
      "cell_type": "markdown",
      "metadata": {
        "id": "0nJsgpcntNEV"
      },
      "source": [
        "In this lab, we will explore a dataset that describes websites with different features and labels them either benign or malicious . We will use supervised learning algorithms to figure out what feature patterns malicious websites are likely to have and use our model to predict malicious websites.\n",
        "\n",
        "# Challenge 1 - Explore The Dataset\n",
        "\n",
        "Let's start by exploring the dataset. First load the data file:"
      ]
    },
    {
      "cell_type": "code",
      "execution_count": 2,
      "metadata": {
        "id": "y9LWX2R2tNEV"
      },
      "outputs": [],
      "source": [
        "websites = pd.read_csv('/content/website (2).csv')"
      ]
    },
    {
      "cell_type": "markdown",
      "metadata": {
        "id": "Fae_F29otNEV"
      },
      "source": [
        "#### Explore the data from an bird's-eye view.\n",
        "\n",
        "You should already been very familiar with the procedures now so we won't provide the instructions step by step. Reflect on what you did in the previous labs and explore the dataset.\n",
        "\n",
        "Things you'll be looking for:\n",
        "\n",
        "* What the dataset looks like?\n",
        "* What are the data types?\n",
        "* Which columns contain the features of the websites?\n",
        "* Which column contains the feature we will predict? What is the code standing for benign vs malicious websites?\n",
        "* Do we need to transform any of the columns from categorical to ordinal values? If so what are these columns?\n",
        "\n",
        "Feel free to add additional cells for your explorations. Make sure to comment what you find out."
      ]
    },
    {
      "cell_type": "code",
      "execution_count": 3,
      "metadata": {
        "id": "_4Ef98CCtNEW",
        "colab": {
          "base_uri": "https://localhost:8080/",
          "height": 325
        },
        "outputId": "959a35f1-5230-435b-b07a-cb6e4cd4fabb"
      },
      "outputs": [
        {
          "output_type": "execute_result",
          "data": {
            "text/plain": [
              "       URL  URL_LENGTH  NUMBER_SPECIAL_CHARACTERS     CHARSET  \\\n",
              "0   M0_109          16                          7  iso-8859-1   \n",
              "1  B0_2314          16                          6       UTF-8   \n",
              "2   B0_911          16                          6    us-ascii   \n",
              "3   B0_113          17                          6  ISO-8859-1   \n",
              "4   B0_403          17                          6       UTF-8   \n",
              "\n",
              "                  SERVER  CONTENT_LENGTH WHOIS_COUNTRY WHOIS_STATEPRO  \\\n",
              "0                  nginx           263.0          None           None   \n",
              "1          Apache/2.4.10         15087.0          None           None   \n",
              "2  Microsoft-HTTPAPI/2.0           324.0          None           None   \n",
              "3                  nginx           162.0            US             AK   \n",
              "4                   None        124140.0            US             TX   \n",
              "\n",
              "      WHOIS_REGDATE WHOIS_UPDATED_DATE  ...  DIST_REMOTE_TCP_PORT  REMOTE_IPS  \\\n",
              "0  10/10/2015 18:21               None  ...                     0           2   \n",
              "1              None               None  ...                     7           4   \n",
              "2              None               None  ...                     0           0   \n",
              "3    7/10/1997 4:00    12/09/2013 0:45  ...                    22           3   \n",
              "4   12/05/1996 0:00    11/04/2017 0:00  ...                     2           5   \n",
              "\n",
              "   APP_BYTES  SOURCE_APP_PACKETS  REMOTE_APP_PACKETS  SOURCE_APP_BYTES  \\\n",
              "0        700                   9                  10              1153   \n",
              "1       1230                  17                  19              1265   \n",
              "2          0                   0                   0                 0   \n",
              "3       3812                  39                  37             18784   \n",
              "4       4278                  61                  62            129889   \n",
              "\n",
              "   REMOTE_APP_BYTES  APP_PACKETS  DNS_QUERY_TIMES  Type  \n",
              "0               832            9              2.0     1  \n",
              "1              1230           17              0.0     0  \n",
              "2                 0            0              0.0     0  \n",
              "3              4380           39              8.0     0  \n",
              "4              4586           61              4.0     0  \n",
              "\n",
              "[5 rows x 21 columns]"
            ],
            "text/html": [
              "\n",
              "  <div id=\"df-2485ab27-946e-4273-9240-268d4c9af988\" class=\"colab-df-container\">\n",
              "    <div>\n",
              "<style scoped>\n",
              "    .dataframe tbody tr th:only-of-type {\n",
              "        vertical-align: middle;\n",
              "    }\n",
              "\n",
              "    .dataframe tbody tr th {\n",
              "        vertical-align: top;\n",
              "    }\n",
              "\n",
              "    .dataframe thead th {\n",
              "        text-align: right;\n",
              "    }\n",
              "</style>\n",
              "<table border=\"1\" class=\"dataframe\">\n",
              "  <thead>\n",
              "    <tr style=\"text-align: right;\">\n",
              "      <th></th>\n",
              "      <th>URL</th>\n",
              "      <th>URL_LENGTH</th>\n",
              "      <th>NUMBER_SPECIAL_CHARACTERS</th>\n",
              "      <th>CHARSET</th>\n",
              "      <th>SERVER</th>\n",
              "      <th>CONTENT_LENGTH</th>\n",
              "      <th>WHOIS_COUNTRY</th>\n",
              "      <th>WHOIS_STATEPRO</th>\n",
              "      <th>WHOIS_REGDATE</th>\n",
              "      <th>WHOIS_UPDATED_DATE</th>\n",
              "      <th>...</th>\n",
              "      <th>DIST_REMOTE_TCP_PORT</th>\n",
              "      <th>REMOTE_IPS</th>\n",
              "      <th>APP_BYTES</th>\n",
              "      <th>SOURCE_APP_PACKETS</th>\n",
              "      <th>REMOTE_APP_PACKETS</th>\n",
              "      <th>SOURCE_APP_BYTES</th>\n",
              "      <th>REMOTE_APP_BYTES</th>\n",
              "      <th>APP_PACKETS</th>\n",
              "      <th>DNS_QUERY_TIMES</th>\n",
              "      <th>Type</th>\n",
              "    </tr>\n",
              "  </thead>\n",
              "  <tbody>\n",
              "    <tr>\n",
              "      <th>0</th>\n",
              "      <td>M0_109</td>\n",
              "      <td>16</td>\n",
              "      <td>7</td>\n",
              "      <td>iso-8859-1</td>\n",
              "      <td>nginx</td>\n",
              "      <td>263.0</td>\n",
              "      <td>None</td>\n",
              "      <td>None</td>\n",
              "      <td>10/10/2015 18:21</td>\n",
              "      <td>None</td>\n",
              "      <td>...</td>\n",
              "      <td>0</td>\n",
              "      <td>2</td>\n",
              "      <td>700</td>\n",
              "      <td>9</td>\n",
              "      <td>10</td>\n",
              "      <td>1153</td>\n",
              "      <td>832</td>\n",
              "      <td>9</td>\n",
              "      <td>2.0</td>\n",
              "      <td>1</td>\n",
              "    </tr>\n",
              "    <tr>\n",
              "      <th>1</th>\n",
              "      <td>B0_2314</td>\n",
              "      <td>16</td>\n",
              "      <td>6</td>\n",
              "      <td>UTF-8</td>\n",
              "      <td>Apache/2.4.10</td>\n",
              "      <td>15087.0</td>\n",
              "      <td>None</td>\n",
              "      <td>None</td>\n",
              "      <td>None</td>\n",
              "      <td>None</td>\n",
              "      <td>...</td>\n",
              "      <td>7</td>\n",
              "      <td>4</td>\n",
              "      <td>1230</td>\n",
              "      <td>17</td>\n",
              "      <td>19</td>\n",
              "      <td>1265</td>\n",
              "      <td>1230</td>\n",
              "      <td>17</td>\n",
              "      <td>0.0</td>\n",
              "      <td>0</td>\n",
              "    </tr>\n",
              "    <tr>\n",
              "      <th>2</th>\n",
              "      <td>B0_911</td>\n",
              "      <td>16</td>\n",
              "      <td>6</td>\n",
              "      <td>us-ascii</td>\n",
              "      <td>Microsoft-HTTPAPI/2.0</td>\n",
              "      <td>324.0</td>\n",
              "      <td>None</td>\n",
              "      <td>None</td>\n",
              "      <td>None</td>\n",
              "      <td>None</td>\n",
              "      <td>...</td>\n",
              "      <td>0</td>\n",
              "      <td>0</td>\n",
              "      <td>0</td>\n",
              "      <td>0</td>\n",
              "      <td>0</td>\n",
              "      <td>0</td>\n",
              "      <td>0</td>\n",
              "      <td>0</td>\n",
              "      <td>0.0</td>\n",
              "      <td>0</td>\n",
              "    </tr>\n",
              "    <tr>\n",
              "      <th>3</th>\n",
              "      <td>B0_113</td>\n",
              "      <td>17</td>\n",
              "      <td>6</td>\n",
              "      <td>ISO-8859-1</td>\n",
              "      <td>nginx</td>\n",
              "      <td>162.0</td>\n",
              "      <td>US</td>\n",
              "      <td>AK</td>\n",
              "      <td>7/10/1997 4:00</td>\n",
              "      <td>12/09/2013 0:45</td>\n",
              "      <td>...</td>\n",
              "      <td>22</td>\n",
              "      <td>3</td>\n",
              "      <td>3812</td>\n",
              "      <td>39</td>\n",
              "      <td>37</td>\n",
              "      <td>18784</td>\n",
              "      <td>4380</td>\n",
              "      <td>39</td>\n",
              "      <td>8.0</td>\n",
              "      <td>0</td>\n",
              "    </tr>\n",
              "    <tr>\n",
              "      <th>4</th>\n",
              "      <td>B0_403</td>\n",
              "      <td>17</td>\n",
              "      <td>6</td>\n",
              "      <td>UTF-8</td>\n",
              "      <td>None</td>\n",
              "      <td>124140.0</td>\n",
              "      <td>US</td>\n",
              "      <td>TX</td>\n",
              "      <td>12/05/1996 0:00</td>\n",
              "      <td>11/04/2017 0:00</td>\n",
              "      <td>...</td>\n",
              "      <td>2</td>\n",
              "      <td>5</td>\n",
              "      <td>4278</td>\n",
              "      <td>61</td>\n",
              "      <td>62</td>\n",
              "      <td>129889</td>\n",
              "      <td>4586</td>\n",
              "      <td>61</td>\n",
              "      <td>4.0</td>\n",
              "      <td>0</td>\n",
              "    </tr>\n",
              "  </tbody>\n",
              "</table>\n",
              "<p>5 rows × 21 columns</p>\n",
              "</div>\n",
              "    <div class=\"colab-df-buttons\">\n",
              "\n",
              "  <div class=\"colab-df-container\">\n",
              "    <button class=\"colab-df-convert\" onclick=\"convertToInteractive('df-2485ab27-946e-4273-9240-268d4c9af988')\"\n",
              "            title=\"Convert this dataframe to an interactive table.\"\n",
              "            style=\"display:none;\">\n",
              "\n",
              "  <svg xmlns=\"http://www.w3.org/2000/svg\" height=\"24px\" viewBox=\"0 -960 960 960\">\n",
              "    <path d=\"M120-120v-720h720v720H120Zm60-500h600v-160H180v160Zm220 220h160v-160H400v160Zm0 220h160v-160H400v160ZM180-400h160v-160H180v160Zm440 0h160v-160H620v160ZM180-180h160v-160H180v160Zm440 0h160v-160H620v160Z\"/>\n",
              "  </svg>\n",
              "    </button>\n",
              "\n",
              "  <style>\n",
              "    .colab-df-container {\n",
              "      display:flex;\n",
              "      gap: 12px;\n",
              "    }\n",
              "\n",
              "    .colab-df-convert {\n",
              "      background-color: #E8F0FE;\n",
              "      border: none;\n",
              "      border-radius: 50%;\n",
              "      cursor: pointer;\n",
              "      display: none;\n",
              "      fill: #1967D2;\n",
              "      height: 32px;\n",
              "      padding: 0 0 0 0;\n",
              "      width: 32px;\n",
              "    }\n",
              "\n",
              "    .colab-df-convert:hover {\n",
              "      background-color: #E2EBFA;\n",
              "      box-shadow: 0px 1px 2px rgba(60, 64, 67, 0.3), 0px 1px 3px 1px rgba(60, 64, 67, 0.15);\n",
              "      fill: #174EA6;\n",
              "    }\n",
              "\n",
              "    .colab-df-buttons div {\n",
              "      margin-bottom: 4px;\n",
              "    }\n",
              "\n",
              "    [theme=dark] .colab-df-convert {\n",
              "      background-color: #3B4455;\n",
              "      fill: #D2E3FC;\n",
              "    }\n",
              "\n",
              "    [theme=dark] .colab-df-convert:hover {\n",
              "      background-color: #434B5C;\n",
              "      box-shadow: 0px 1px 3px 1px rgba(0, 0, 0, 0.15);\n",
              "      filter: drop-shadow(0px 1px 2px rgba(0, 0, 0, 0.3));\n",
              "      fill: #FFFFFF;\n",
              "    }\n",
              "  </style>\n",
              "\n",
              "    <script>\n",
              "      const buttonEl =\n",
              "        document.querySelector('#df-2485ab27-946e-4273-9240-268d4c9af988 button.colab-df-convert');\n",
              "      buttonEl.style.display =\n",
              "        google.colab.kernel.accessAllowed ? 'block' : 'none';\n",
              "\n",
              "      async function convertToInteractive(key) {\n",
              "        const element = document.querySelector('#df-2485ab27-946e-4273-9240-268d4c9af988');\n",
              "        const dataTable =\n",
              "          await google.colab.kernel.invokeFunction('convertToInteractive',\n",
              "                                                    [key], {});\n",
              "        if (!dataTable) return;\n",
              "\n",
              "        const docLinkHtml = 'Like what you see? Visit the ' +\n",
              "          '<a target=\"_blank\" href=https://colab.research.google.com/notebooks/data_table.ipynb>data table notebook</a>'\n",
              "          + ' to learn more about interactive tables.';\n",
              "        element.innerHTML = '';\n",
              "        dataTable['output_type'] = 'display_data';\n",
              "        await google.colab.output.renderOutput(dataTable, element);\n",
              "        const docLink = document.createElement('div');\n",
              "        docLink.innerHTML = docLinkHtml;\n",
              "        element.appendChild(docLink);\n",
              "      }\n",
              "    </script>\n",
              "  </div>\n",
              "\n",
              "\n",
              "<div id=\"df-d3adeed7-ec8a-44d6-aa87-38d46be2ca6e\">\n",
              "  <button class=\"colab-df-quickchart\" onclick=\"quickchart('df-d3adeed7-ec8a-44d6-aa87-38d46be2ca6e')\"\n",
              "            title=\"Suggest charts\"\n",
              "            style=\"display:none;\">\n",
              "\n",
              "<svg xmlns=\"http://www.w3.org/2000/svg\" height=\"24px\"viewBox=\"0 0 24 24\"\n",
              "     width=\"24px\">\n",
              "    <g>\n",
              "        <path d=\"M19 3H5c-1.1 0-2 .9-2 2v14c0 1.1.9 2 2 2h14c1.1 0 2-.9 2-2V5c0-1.1-.9-2-2-2zM9 17H7v-7h2v7zm4 0h-2V7h2v10zm4 0h-2v-4h2v4z\"/>\n",
              "    </g>\n",
              "</svg>\n",
              "  </button>\n",
              "\n",
              "<style>\n",
              "  .colab-df-quickchart {\n",
              "      --bg-color: #E8F0FE;\n",
              "      --fill-color: #1967D2;\n",
              "      --hover-bg-color: #E2EBFA;\n",
              "      --hover-fill-color: #174EA6;\n",
              "      --disabled-fill-color: #AAA;\n",
              "      --disabled-bg-color: #DDD;\n",
              "  }\n",
              "\n",
              "  [theme=dark] .colab-df-quickchart {\n",
              "      --bg-color: #3B4455;\n",
              "      --fill-color: #D2E3FC;\n",
              "      --hover-bg-color: #434B5C;\n",
              "      --hover-fill-color: #FFFFFF;\n",
              "      --disabled-bg-color: #3B4455;\n",
              "      --disabled-fill-color: #666;\n",
              "  }\n",
              "\n",
              "  .colab-df-quickchart {\n",
              "    background-color: var(--bg-color);\n",
              "    border: none;\n",
              "    border-radius: 50%;\n",
              "    cursor: pointer;\n",
              "    display: none;\n",
              "    fill: var(--fill-color);\n",
              "    height: 32px;\n",
              "    padding: 0;\n",
              "    width: 32px;\n",
              "  }\n",
              "\n",
              "  .colab-df-quickchart:hover {\n",
              "    background-color: var(--hover-bg-color);\n",
              "    box-shadow: 0 1px 2px rgba(60, 64, 67, 0.3), 0 1px 3px 1px rgba(60, 64, 67, 0.15);\n",
              "    fill: var(--button-hover-fill-color);\n",
              "  }\n",
              "\n",
              "  .colab-df-quickchart-complete:disabled,\n",
              "  .colab-df-quickchart-complete:disabled:hover {\n",
              "    background-color: var(--disabled-bg-color);\n",
              "    fill: var(--disabled-fill-color);\n",
              "    box-shadow: none;\n",
              "  }\n",
              "\n",
              "  .colab-df-spinner {\n",
              "    border: 2px solid var(--fill-color);\n",
              "    border-color: transparent;\n",
              "    border-bottom-color: var(--fill-color);\n",
              "    animation:\n",
              "      spin 1s steps(1) infinite;\n",
              "  }\n",
              "\n",
              "  @keyframes spin {\n",
              "    0% {\n",
              "      border-color: transparent;\n",
              "      border-bottom-color: var(--fill-color);\n",
              "      border-left-color: var(--fill-color);\n",
              "    }\n",
              "    20% {\n",
              "      border-color: transparent;\n",
              "      border-left-color: var(--fill-color);\n",
              "      border-top-color: var(--fill-color);\n",
              "    }\n",
              "    30% {\n",
              "      border-color: transparent;\n",
              "      border-left-color: var(--fill-color);\n",
              "      border-top-color: var(--fill-color);\n",
              "      border-right-color: var(--fill-color);\n",
              "    }\n",
              "    40% {\n",
              "      border-color: transparent;\n",
              "      border-right-color: var(--fill-color);\n",
              "      border-top-color: var(--fill-color);\n",
              "    }\n",
              "    60% {\n",
              "      border-color: transparent;\n",
              "      border-right-color: var(--fill-color);\n",
              "    }\n",
              "    80% {\n",
              "      border-color: transparent;\n",
              "      border-right-color: var(--fill-color);\n",
              "      border-bottom-color: var(--fill-color);\n",
              "    }\n",
              "    90% {\n",
              "      border-color: transparent;\n",
              "      border-bottom-color: var(--fill-color);\n",
              "    }\n",
              "  }\n",
              "</style>\n",
              "\n",
              "  <script>\n",
              "    async function quickchart(key) {\n",
              "      const quickchartButtonEl =\n",
              "        document.querySelector('#' + key + ' button');\n",
              "      quickchartButtonEl.disabled = true;  // To prevent multiple clicks.\n",
              "      quickchartButtonEl.classList.add('colab-df-spinner');\n",
              "      try {\n",
              "        const charts = await google.colab.kernel.invokeFunction(\n",
              "            'suggestCharts', [key], {});\n",
              "      } catch (error) {\n",
              "        console.error('Error during call to suggestCharts:', error);\n",
              "      }\n",
              "      quickchartButtonEl.classList.remove('colab-df-spinner');\n",
              "      quickchartButtonEl.classList.add('colab-df-quickchart-complete');\n",
              "    }\n",
              "    (() => {\n",
              "      let quickchartButtonEl =\n",
              "        document.querySelector('#df-d3adeed7-ec8a-44d6-aa87-38d46be2ca6e button');\n",
              "      quickchartButtonEl.style.display =\n",
              "        google.colab.kernel.accessAllowed ? 'block' : 'none';\n",
              "    })();\n",
              "  </script>\n",
              "</div>\n",
              "    </div>\n",
              "  </div>\n"
            ]
          },
          "metadata": {},
          "execution_count": 3
        }
      ],
      "source": [
        "# Your code here\n",
        "websites.head()"
      ]
    },
    {
      "cell_type": "code",
      "source": [
        "websites.dtypes"
      ],
      "metadata": {
        "colab": {
          "base_uri": "https://localhost:8080/"
        },
        "id": "lnYqfM873kO_",
        "outputId": "b563f154-06c4-4eb9-8a07-3187f63380f3"
      },
      "execution_count": 4,
      "outputs": [
        {
          "output_type": "execute_result",
          "data": {
            "text/plain": [
              "URL                           object\n",
              "URL_LENGTH                     int64\n",
              "NUMBER_SPECIAL_CHARACTERS      int64\n",
              "CHARSET                       object\n",
              "SERVER                        object\n",
              "CONTENT_LENGTH               float64\n",
              "WHOIS_COUNTRY                 object\n",
              "WHOIS_STATEPRO                object\n",
              "WHOIS_REGDATE                 object\n",
              "WHOIS_UPDATED_DATE            object\n",
              "TCP_CONVERSATION_EXCHANGE      int64\n",
              "DIST_REMOTE_TCP_PORT           int64\n",
              "REMOTE_IPS                     int64\n",
              "APP_BYTES                      int64\n",
              "SOURCE_APP_PACKETS             int64\n",
              "REMOTE_APP_PACKETS             int64\n",
              "SOURCE_APP_BYTES               int64\n",
              "REMOTE_APP_BYTES               int64\n",
              "APP_PACKETS                    int64\n",
              "DNS_QUERY_TIMES              float64\n",
              "Type                           int64\n",
              "dtype: object"
            ]
          },
          "metadata": {},
          "execution_count": 4
        }
      ]
    },
    {
      "cell_type": "code",
      "source": [
        "features_columns = [\n",
        "    'URL_LENGTH',\n",
        "    'NUMBER_SPECIAL_CHARACTERS',\n",
        "    'CHARSET',\n",
        "    'SERVER',\n",
        "    'CONTENT_LENGTH',\n",
        "    'WHOIS_COUNTRY',\n",
        "    'WHOIS_STATEPRO',\n",
        "    'WHOIS_REGDATE',\n",
        "    'WHOIS_UPDATED_DATE',\n",
        "    'TCP_CONVERSATION_EXCHANGE',\n",
        "    'DIST_REMOTE_TCP_PORT',\n",
        "    'REMOTE_IPS',\n",
        "    'APP_BYTES',\n",
        "    'SOURCE_APP_PACKETS',\n",
        "    'REMOTE_APP_PACKETS',\n",
        "    'SOURCE_APP_BYTES',\n",
        "    'REMOTE_APP_BYTES',\n",
        "    'APP_PACKETS',\n",
        "    'DNS_QUERY_TIMES'\n",
        "]\n"
      ],
      "metadata": {
        "id": "BPJc8ryi3maf"
      },
      "execution_count": 5,
      "outputs": []
    },
    {
      "cell_type": "code",
      "source": [
        "target_column = 'Type'\n"
      ],
      "metadata": {
        "id": "Bvpwep6g3zXk"
      },
      "execution_count": 8,
      "outputs": []
    },
    {
      "cell_type": "code",
      "source": [
        "websites[target_column].value_counts()"
      ],
      "metadata": {
        "colab": {
          "base_uri": "https://localhost:8080/"
        },
        "id": "t-YdfZq734-P",
        "outputId": "51e3c665-7440-4563-b67d-ff4ffc0f0a32"
      },
      "execution_count": 9,
      "outputs": [
        {
          "output_type": "execute_result",
          "data": {
            "text/plain": [
              "0    1565\n",
              "1     216\n",
              "Name: Type, dtype: int64"
            ]
          },
          "metadata": {},
          "execution_count": 9
        }
      ]
    },
    {
      "cell_type": "code",
      "execution_count": null,
      "metadata": {
        "id": "xJu2t9nAtNEW"
      },
      "outputs": [],
      "source": [
        "# Your comment here\n",
        "# the type column is the target variable, making a distincion between benign and malicious websites (which are the numerical values representing different types)\n",
        "#important to notice the categorical data which may need to be encoded for machine learning models."
      ]
    },
    {
      "cell_type": "markdown",
      "metadata": {
        "id": "sfn3j5G_tNEW"
      },
      "source": [
        "#### Next, evaluate if the columns in this dataset are strongly correlated.\n",
        "\n",
        "If our dataset has strongly correlated columns, we need to choose certain ML algorithms instead of others. We need to evaluate this for our dataset now.\n",
        "\n",
        "Luckily, most of the columns in this dataset are ordinal which makes things a lot easier for us. In the next cells below, evaluate the level of collinearity of the data.\n",
        "\n",
        "We provide some general directions for you to consult in order to complete this step:\n",
        "\n",
        "1. You will create a correlation matrix using the numeric columns in the dataset.\n",
        "\n",
        "1. Create a heatmap using `seaborn` to visualize which columns have high collinearity.\n",
        "\n",
        "1. Comment on which columns you might need to remove due to high collinearity."
      ]
    },
    {
      "cell_type": "code",
      "execution_count": 10,
      "metadata": {
        "id": "XA5rgWE8tNEW"
      },
      "outputs": [],
      "source": [
        "# Your code here\n",
        "import seaborn as sns\n",
        "import matplotlib.pyplot as plt"
      ]
    },
    {
      "cell_type": "code",
      "source": [
        "# numeric columns\n",
        "numeric_columns = websites.select_dtypes(include=np.number)"
      ],
      "metadata": {
        "id": "4Q7abMRO4ewf"
      },
      "execution_count": 14,
      "outputs": []
    },
    {
      "cell_type": "code",
      "source": [
        "# correlation matrix\n",
        "correlation_matrix = numeric_columns.corr()\n",
        "correlation_matrix"
      ],
      "metadata": {
        "colab": {
          "base_uri": "https://localhost:8080/",
          "height": 508
        },
        "id": "rIdBkRdl4gWk",
        "outputId": "34929459-74a0-419f-c799-e41f563be4ca"
      },
      "execution_count": 16,
      "outputs": [
        {
          "output_type": "execute_result",
          "data": {
            "text/plain": [
              "                           URL_LENGTH  NUMBER_SPECIAL_CHARACTERS  \\\n",
              "URL_LENGTH                   1.000000                   0.917986   \n",
              "NUMBER_SPECIAL_CHARACTERS    0.917986                   1.000000   \n",
              "CONTENT_LENGTH               0.129745                   0.214225   \n",
              "TCP_CONVERSATION_EXCHANGE   -0.038407                  -0.037459   \n",
              "DIST_REMOTE_TCP_PORT        -0.039839                  -0.042619   \n",
              "REMOTE_IPS                  -0.046367                  -0.047103   \n",
              "APP_BYTES                   -0.026446                  -0.023914   \n",
              "SOURCE_APP_PACKETS          -0.042264                  -0.040096   \n",
              "REMOTE_APP_PACKETS          -0.033779                  -0.030597   \n",
              "SOURCE_APP_BYTES            -0.014857                  -0.014376   \n",
              "REMOTE_APP_BYTES            -0.026686                  -0.024098   \n",
              "APP_PACKETS                 -0.042264                  -0.040096   \n",
              "DNS_QUERY_TIMES             -0.068582                  -0.050048   \n",
              "Type                         0.162104                   0.280897   \n",
              "\n",
              "                           CONTENT_LENGTH  TCP_CONVERSATION_EXCHANGE  \\\n",
              "URL_LENGTH                       0.129745                  -0.038407   \n",
              "NUMBER_SPECIAL_CHARACTERS        0.214225                  -0.037459   \n",
              "CONTENT_LENGTH                   1.000000                   0.078451   \n",
              "TCP_CONVERSATION_EXCHANGE        0.078451                   1.000000   \n",
              "DIST_REMOTE_TCP_PORT            -0.000381                   0.555188   \n",
              "REMOTE_IPS                       0.004774                   0.331080   \n",
              "APP_BYTES                        0.051202                   0.457320   \n",
              "SOURCE_APP_PACKETS               0.074142                   0.997796   \n",
              "REMOTE_APP_PACKETS               0.091077                   0.990848   \n",
              "SOURCE_APP_BYTES                 0.100094                   0.865580   \n",
              "REMOTE_APP_BYTES                 0.047595                   0.458702   \n",
              "APP_PACKETS                      0.074142                   0.997796   \n",
              "DNS_QUERY_TIMES                 -0.045644                   0.349832   \n",
              "Type                            -0.090852                  -0.040202   \n",
              "\n",
              "                           DIST_REMOTE_TCP_PORT  REMOTE_IPS  APP_BYTES  \\\n",
              "URL_LENGTH                            -0.039839   -0.046367  -0.026446   \n",
              "NUMBER_SPECIAL_CHARACTERS             -0.042619   -0.047103  -0.023914   \n",
              "CONTENT_LENGTH                        -0.000381    0.004774   0.051202   \n",
              "TCP_CONVERSATION_EXCHANGE              0.555188    0.331080   0.457320   \n",
              "DIST_REMOTE_TCP_PORT                   1.000000    0.210188   0.780238   \n",
              "REMOTE_IPS                             0.210188    1.000000   0.023126   \n",
              "APP_BYTES                              0.780238    0.023126   1.000000   \n",
              "SOURCE_APP_PACKETS                     0.558612    0.361104   0.445822   \n",
              "REMOTE_APP_PACKETS                     0.591188    0.304683   0.468999   \n",
              "SOURCE_APP_BYTES                       0.313359    0.171651   0.074464   \n",
              "REMOTE_APP_BYTES                       0.781212    0.025324   0.999992   \n",
              "APP_PACKETS                            0.558612    0.361104   0.445822   \n",
              "DNS_QUERY_TIMES                        0.259942    0.548189   0.012221   \n",
              "Type                                  -0.082925   -0.078783  -0.011262   \n",
              "\n",
              "                           SOURCE_APP_PACKETS  REMOTE_APP_PACKETS  \\\n",
              "URL_LENGTH                          -0.042264           -0.033779   \n",
              "NUMBER_SPECIAL_CHARACTERS           -0.040096           -0.030597   \n",
              "CONTENT_LENGTH                       0.074142            0.091077   \n",
              "TCP_CONVERSATION_EXCHANGE            0.997796            0.990848   \n",
              "DIST_REMOTE_TCP_PORT                 0.558612            0.591188   \n",
              "REMOTE_IPS                           0.361104            0.304683   \n",
              "APP_BYTES                            0.445822            0.468999   \n",
              "SOURCE_APP_PACKETS                   1.000000            0.989285   \n",
              "REMOTE_APP_PACKETS                   0.989285            1.000000   \n",
              "SOURCE_APP_BYTES                     0.857495            0.880555   \n",
              "REMOTE_APP_BYTES                     0.447448            0.470401   \n",
              "APP_PACKETS                          1.000000            0.989285   \n",
              "DNS_QUERY_TIMES                      0.410843            0.355716   \n",
              "Type                                -0.034414           -0.032897   \n",
              "\n",
              "                           SOURCE_APP_BYTES  REMOTE_APP_BYTES  APP_PACKETS  \\\n",
              "URL_LENGTH                        -0.014857         -0.026686    -0.042264   \n",
              "NUMBER_SPECIAL_CHARACTERS         -0.014376         -0.024098    -0.040096   \n",
              "CONTENT_LENGTH                     0.100094          0.047595     0.074142   \n",
              "TCP_CONVERSATION_EXCHANGE          0.865580          0.458702     0.997796   \n",
              "DIST_REMOTE_TCP_PORT               0.313359          0.781212     0.558612   \n",
              "REMOTE_IPS                         0.171651          0.025324     0.361104   \n",
              "APP_BYTES                          0.074464          0.999992     0.445822   \n",
              "SOURCE_APP_PACKETS                 0.857495          0.447448     1.000000   \n",
              "REMOTE_APP_PACKETS                 0.880555          0.470401     0.989285   \n",
              "SOURCE_APP_BYTES                   1.000000          0.075328     0.857495   \n",
              "REMOTE_APP_BYTES                   0.075328          1.000000     0.447448   \n",
              "APP_PACKETS                        0.857495          0.447448     1.000000   \n",
              "DNS_QUERY_TIMES                    0.215285          0.016215     0.410843   \n",
              "Type                              -0.043852         -0.011004    -0.034414   \n",
              "\n",
              "                           DNS_QUERY_TIMES      Type  \n",
              "URL_LENGTH                       -0.068582  0.162104  \n",
              "NUMBER_SPECIAL_CHARACTERS        -0.050048  0.280897  \n",
              "CONTENT_LENGTH                   -0.045644 -0.090852  \n",
              "TCP_CONVERSATION_EXCHANGE         0.349832 -0.040202  \n",
              "DIST_REMOTE_TCP_PORT              0.259942 -0.082925  \n",
              "REMOTE_IPS                        0.548189 -0.078783  \n",
              "APP_BYTES                         0.012221 -0.011262  \n",
              "SOURCE_APP_PACKETS                0.410843 -0.034414  \n",
              "REMOTE_APP_PACKETS                0.355716 -0.032897  \n",
              "SOURCE_APP_BYTES                  0.215285 -0.043852  \n",
              "REMOTE_APP_BYTES                  0.016215 -0.011004  \n",
              "APP_PACKETS                       0.410843 -0.034414  \n",
              "DNS_QUERY_TIMES                   1.000000  0.068753  \n",
              "Type                              0.068753  1.000000  "
            ],
            "text/html": [
              "\n",
              "  <div id=\"df-0143b263-58cf-4bbd-a118-4d37d8345567\" class=\"colab-df-container\">\n",
              "    <div>\n",
              "<style scoped>\n",
              "    .dataframe tbody tr th:only-of-type {\n",
              "        vertical-align: middle;\n",
              "    }\n",
              "\n",
              "    .dataframe tbody tr th {\n",
              "        vertical-align: top;\n",
              "    }\n",
              "\n",
              "    .dataframe thead th {\n",
              "        text-align: right;\n",
              "    }\n",
              "</style>\n",
              "<table border=\"1\" class=\"dataframe\">\n",
              "  <thead>\n",
              "    <tr style=\"text-align: right;\">\n",
              "      <th></th>\n",
              "      <th>URL_LENGTH</th>\n",
              "      <th>NUMBER_SPECIAL_CHARACTERS</th>\n",
              "      <th>CONTENT_LENGTH</th>\n",
              "      <th>TCP_CONVERSATION_EXCHANGE</th>\n",
              "      <th>DIST_REMOTE_TCP_PORT</th>\n",
              "      <th>REMOTE_IPS</th>\n",
              "      <th>APP_BYTES</th>\n",
              "      <th>SOURCE_APP_PACKETS</th>\n",
              "      <th>REMOTE_APP_PACKETS</th>\n",
              "      <th>SOURCE_APP_BYTES</th>\n",
              "      <th>REMOTE_APP_BYTES</th>\n",
              "      <th>APP_PACKETS</th>\n",
              "      <th>DNS_QUERY_TIMES</th>\n",
              "      <th>Type</th>\n",
              "    </tr>\n",
              "  </thead>\n",
              "  <tbody>\n",
              "    <tr>\n",
              "      <th>URL_LENGTH</th>\n",
              "      <td>1.000000</td>\n",
              "      <td>0.917986</td>\n",
              "      <td>0.129745</td>\n",
              "      <td>-0.038407</td>\n",
              "      <td>-0.039839</td>\n",
              "      <td>-0.046367</td>\n",
              "      <td>-0.026446</td>\n",
              "      <td>-0.042264</td>\n",
              "      <td>-0.033779</td>\n",
              "      <td>-0.014857</td>\n",
              "      <td>-0.026686</td>\n",
              "      <td>-0.042264</td>\n",
              "      <td>-0.068582</td>\n",
              "      <td>0.162104</td>\n",
              "    </tr>\n",
              "    <tr>\n",
              "      <th>NUMBER_SPECIAL_CHARACTERS</th>\n",
              "      <td>0.917986</td>\n",
              "      <td>1.000000</td>\n",
              "      <td>0.214225</td>\n",
              "      <td>-0.037459</td>\n",
              "      <td>-0.042619</td>\n",
              "      <td>-0.047103</td>\n",
              "      <td>-0.023914</td>\n",
              "      <td>-0.040096</td>\n",
              "      <td>-0.030597</td>\n",
              "      <td>-0.014376</td>\n",
              "      <td>-0.024098</td>\n",
              "      <td>-0.040096</td>\n",
              "      <td>-0.050048</td>\n",
              "      <td>0.280897</td>\n",
              "    </tr>\n",
              "    <tr>\n",
              "      <th>CONTENT_LENGTH</th>\n",
              "      <td>0.129745</td>\n",
              "      <td>0.214225</td>\n",
              "      <td>1.000000</td>\n",
              "      <td>0.078451</td>\n",
              "      <td>-0.000381</td>\n",
              "      <td>0.004774</td>\n",
              "      <td>0.051202</td>\n",
              "      <td>0.074142</td>\n",
              "      <td>0.091077</td>\n",
              "      <td>0.100094</td>\n",
              "      <td>0.047595</td>\n",
              "      <td>0.074142</td>\n",
              "      <td>-0.045644</td>\n",
              "      <td>-0.090852</td>\n",
              "    </tr>\n",
              "    <tr>\n",
              "      <th>TCP_CONVERSATION_EXCHANGE</th>\n",
              "      <td>-0.038407</td>\n",
              "      <td>-0.037459</td>\n",
              "      <td>0.078451</td>\n",
              "      <td>1.000000</td>\n",
              "      <td>0.555188</td>\n",
              "      <td>0.331080</td>\n",
              "      <td>0.457320</td>\n",
              "      <td>0.997796</td>\n",
              "      <td>0.990848</td>\n",
              "      <td>0.865580</td>\n",
              "      <td>0.458702</td>\n",
              "      <td>0.997796</td>\n",
              "      <td>0.349832</td>\n",
              "      <td>-0.040202</td>\n",
              "    </tr>\n",
              "    <tr>\n",
              "      <th>DIST_REMOTE_TCP_PORT</th>\n",
              "      <td>-0.039839</td>\n",
              "      <td>-0.042619</td>\n",
              "      <td>-0.000381</td>\n",
              "      <td>0.555188</td>\n",
              "      <td>1.000000</td>\n",
              "      <td>0.210188</td>\n",
              "      <td>0.780238</td>\n",
              "      <td>0.558612</td>\n",
              "      <td>0.591188</td>\n",
              "      <td>0.313359</td>\n",
              "      <td>0.781212</td>\n",
              "      <td>0.558612</td>\n",
              "      <td>0.259942</td>\n",
              "      <td>-0.082925</td>\n",
              "    </tr>\n",
              "    <tr>\n",
              "      <th>REMOTE_IPS</th>\n",
              "      <td>-0.046367</td>\n",
              "      <td>-0.047103</td>\n",
              "      <td>0.004774</td>\n",
              "      <td>0.331080</td>\n",
              "      <td>0.210188</td>\n",
              "      <td>1.000000</td>\n",
              "      <td>0.023126</td>\n",
              "      <td>0.361104</td>\n",
              "      <td>0.304683</td>\n",
              "      <td>0.171651</td>\n",
              "      <td>0.025324</td>\n",
              "      <td>0.361104</td>\n",
              "      <td>0.548189</td>\n",
              "      <td>-0.078783</td>\n",
              "    </tr>\n",
              "    <tr>\n",
              "      <th>APP_BYTES</th>\n",
              "      <td>-0.026446</td>\n",
              "      <td>-0.023914</td>\n",
              "      <td>0.051202</td>\n",
              "      <td>0.457320</td>\n",
              "      <td>0.780238</td>\n",
              "      <td>0.023126</td>\n",
              "      <td>1.000000</td>\n",
              "      <td>0.445822</td>\n",
              "      <td>0.468999</td>\n",
              "      <td>0.074464</td>\n",
              "      <td>0.999992</td>\n",
              "      <td>0.445822</td>\n",
              "      <td>0.012221</td>\n",
              "      <td>-0.011262</td>\n",
              "    </tr>\n",
              "    <tr>\n",
              "      <th>SOURCE_APP_PACKETS</th>\n",
              "      <td>-0.042264</td>\n",
              "      <td>-0.040096</td>\n",
              "      <td>0.074142</td>\n",
              "      <td>0.997796</td>\n",
              "      <td>0.558612</td>\n",
              "      <td>0.361104</td>\n",
              "      <td>0.445822</td>\n",
              "      <td>1.000000</td>\n",
              "      <td>0.989285</td>\n",
              "      <td>0.857495</td>\n",
              "      <td>0.447448</td>\n",
              "      <td>1.000000</td>\n",
              "      <td>0.410843</td>\n",
              "      <td>-0.034414</td>\n",
              "    </tr>\n",
              "    <tr>\n",
              "      <th>REMOTE_APP_PACKETS</th>\n",
              "      <td>-0.033779</td>\n",
              "      <td>-0.030597</td>\n",
              "      <td>0.091077</td>\n",
              "      <td>0.990848</td>\n",
              "      <td>0.591188</td>\n",
              "      <td>0.304683</td>\n",
              "      <td>0.468999</td>\n",
              "      <td>0.989285</td>\n",
              "      <td>1.000000</td>\n",
              "      <td>0.880555</td>\n",
              "      <td>0.470401</td>\n",
              "      <td>0.989285</td>\n",
              "      <td>0.355716</td>\n",
              "      <td>-0.032897</td>\n",
              "    </tr>\n",
              "    <tr>\n",
              "      <th>SOURCE_APP_BYTES</th>\n",
              "      <td>-0.014857</td>\n",
              "      <td>-0.014376</td>\n",
              "      <td>0.100094</td>\n",
              "      <td>0.865580</td>\n",
              "      <td>0.313359</td>\n",
              "      <td>0.171651</td>\n",
              "      <td>0.074464</td>\n",
              "      <td>0.857495</td>\n",
              "      <td>0.880555</td>\n",
              "      <td>1.000000</td>\n",
              "      <td>0.075328</td>\n",
              "      <td>0.857495</td>\n",
              "      <td>0.215285</td>\n",
              "      <td>-0.043852</td>\n",
              "    </tr>\n",
              "    <tr>\n",
              "      <th>REMOTE_APP_BYTES</th>\n",
              "      <td>-0.026686</td>\n",
              "      <td>-0.024098</td>\n",
              "      <td>0.047595</td>\n",
              "      <td>0.458702</td>\n",
              "      <td>0.781212</td>\n",
              "      <td>0.025324</td>\n",
              "      <td>0.999992</td>\n",
              "      <td>0.447448</td>\n",
              "      <td>0.470401</td>\n",
              "      <td>0.075328</td>\n",
              "      <td>1.000000</td>\n",
              "      <td>0.447448</td>\n",
              "      <td>0.016215</td>\n",
              "      <td>-0.011004</td>\n",
              "    </tr>\n",
              "    <tr>\n",
              "      <th>APP_PACKETS</th>\n",
              "      <td>-0.042264</td>\n",
              "      <td>-0.040096</td>\n",
              "      <td>0.074142</td>\n",
              "      <td>0.997796</td>\n",
              "      <td>0.558612</td>\n",
              "      <td>0.361104</td>\n",
              "      <td>0.445822</td>\n",
              "      <td>1.000000</td>\n",
              "      <td>0.989285</td>\n",
              "      <td>0.857495</td>\n",
              "      <td>0.447448</td>\n",
              "      <td>1.000000</td>\n",
              "      <td>0.410843</td>\n",
              "      <td>-0.034414</td>\n",
              "    </tr>\n",
              "    <tr>\n",
              "      <th>DNS_QUERY_TIMES</th>\n",
              "      <td>-0.068582</td>\n",
              "      <td>-0.050048</td>\n",
              "      <td>-0.045644</td>\n",
              "      <td>0.349832</td>\n",
              "      <td>0.259942</td>\n",
              "      <td>0.548189</td>\n",
              "      <td>0.012221</td>\n",
              "      <td>0.410843</td>\n",
              "      <td>0.355716</td>\n",
              "      <td>0.215285</td>\n",
              "      <td>0.016215</td>\n",
              "      <td>0.410843</td>\n",
              "      <td>1.000000</td>\n",
              "      <td>0.068753</td>\n",
              "    </tr>\n",
              "    <tr>\n",
              "      <th>Type</th>\n",
              "      <td>0.162104</td>\n",
              "      <td>0.280897</td>\n",
              "      <td>-0.090852</td>\n",
              "      <td>-0.040202</td>\n",
              "      <td>-0.082925</td>\n",
              "      <td>-0.078783</td>\n",
              "      <td>-0.011262</td>\n",
              "      <td>-0.034414</td>\n",
              "      <td>-0.032897</td>\n",
              "      <td>-0.043852</td>\n",
              "      <td>-0.011004</td>\n",
              "      <td>-0.034414</td>\n",
              "      <td>0.068753</td>\n",
              "      <td>1.000000</td>\n",
              "    </tr>\n",
              "  </tbody>\n",
              "</table>\n",
              "</div>\n",
              "    <div class=\"colab-df-buttons\">\n",
              "\n",
              "  <div class=\"colab-df-container\">\n",
              "    <button class=\"colab-df-convert\" onclick=\"convertToInteractive('df-0143b263-58cf-4bbd-a118-4d37d8345567')\"\n",
              "            title=\"Convert this dataframe to an interactive table.\"\n",
              "            style=\"display:none;\">\n",
              "\n",
              "  <svg xmlns=\"http://www.w3.org/2000/svg\" height=\"24px\" viewBox=\"0 -960 960 960\">\n",
              "    <path d=\"M120-120v-720h720v720H120Zm60-500h600v-160H180v160Zm220 220h160v-160H400v160Zm0 220h160v-160H400v160ZM180-400h160v-160H180v160Zm440 0h160v-160H620v160ZM180-180h160v-160H180v160Zm440 0h160v-160H620v160Z\"/>\n",
              "  </svg>\n",
              "    </button>\n",
              "\n",
              "  <style>\n",
              "    .colab-df-container {\n",
              "      display:flex;\n",
              "      gap: 12px;\n",
              "    }\n",
              "\n",
              "    .colab-df-convert {\n",
              "      background-color: #E8F0FE;\n",
              "      border: none;\n",
              "      border-radius: 50%;\n",
              "      cursor: pointer;\n",
              "      display: none;\n",
              "      fill: #1967D2;\n",
              "      height: 32px;\n",
              "      padding: 0 0 0 0;\n",
              "      width: 32px;\n",
              "    }\n",
              "\n",
              "    .colab-df-convert:hover {\n",
              "      background-color: #E2EBFA;\n",
              "      box-shadow: 0px 1px 2px rgba(60, 64, 67, 0.3), 0px 1px 3px 1px rgba(60, 64, 67, 0.15);\n",
              "      fill: #174EA6;\n",
              "    }\n",
              "\n",
              "    .colab-df-buttons div {\n",
              "      margin-bottom: 4px;\n",
              "    }\n",
              "\n",
              "    [theme=dark] .colab-df-convert {\n",
              "      background-color: #3B4455;\n",
              "      fill: #D2E3FC;\n",
              "    }\n",
              "\n",
              "    [theme=dark] .colab-df-convert:hover {\n",
              "      background-color: #434B5C;\n",
              "      box-shadow: 0px 1px 3px 1px rgba(0, 0, 0, 0.15);\n",
              "      filter: drop-shadow(0px 1px 2px rgba(0, 0, 0, 0.3));\n",
              "      fill: #FFFFFF;\n",
              "    }\n",
              "  </style>\n",
              "\n",
              "    <script>\n",
              "      const buttonEl =\n",
              "        document.querySelector('#df-0143b263-58cf-4bbd-a118-4d37d8345567 button.colab-df-convert');\n",
              "      buttonEl.style.display =\n",
              "        google.colab.kernel.accessAllowed ? 'block' : 'none';\n",
              "\n",
              "      async function convertToInteractive(key) {\n",
              "        const element = document.querySelector('#df-0143b263-58cf-4bbd-a118-4d37d8345567');\n",
              "        const dataTable =\n",
              "          await google.colab.kernel.invokeFunction('convertToInteractive',\n",
              "                                                    [key], {});\n",
              "        if (!dataTable) return;\n",
              "\n",
              "        const docLinkHtml = 'Like what you see? Visit the ' +\n",
              "          '<a target=\"_blank\" href=https://colab.research.google.com/notebooks/data_table.ipynb>data table notebook</a>'\n",
              "          + ' to learn more about interactive tables.';\n",
              "        element.innerHTML = '';\n",
              "        dataTable['output_type'] = 'display_data';\n",
              "        await google.colab.output.renderOutput(dataTable, element);\n",
              "        const docLink = document.createElement('div');\n",
              "        docLink.innerHTML = docLinkHtml;\n",
              "        element.appendChild(docLink);\n",
              "      }\n",
              "    </script>\n",
              "  </div>\n",
              "\n",
              "\n",
              "<div id=\"df-74ad97bd-2c9d-47b4-8bf2-67ff9b1402f7\">\n",
              "  <button class=\"colab-df-quickchart\" onclick=\"quickchart('df-74ad97bd-2c9d-47b4-8bf2-67ff9b1402f7')\"\n",
              "            title=\"Suggest charts\"\n",
              "            style=\"display:none;\">\n",
              "\n",
              "<svg xmlns=\"http://www.w3.org/2000/svg\" height=\"24px\"viewBox=\"0 0 24 24\"\n",
              "     width=\"24px\">\n",
              "    <g>\n",
              "        <path d=\"M19 3H5c-1.1 0-2 .9-2 2v14c0 1.1.9 2 2 2h14c1.1 0 2-.9 2-2V5c0-1.1-.9-2-2-2zM9 17H7v-7h2v7zm4 0h-2V7h2v10zm4 0h-2v-4h2v4z\"/>\n",
              "    </g>\n",
              "</svg>\n",
              "  </button>\n",
              "\n",
              "<style>\n",
              "  .colab-df-quickchart {\n",
              "      --bg-color: #E8F0FE;\n",
              "      --fill-color: #1967D2;\n",
              "      --hover-bg-color: #E2EBFA;\n",
              "      --hover-fill-color: #174EA6;\n",
              "      --disabled-fill-color: #AAA;\n",
              "      --disabled-bg-color: #DDD;\n",
              "  }\n",
              "\n",
              "  [theme=dark] .colab-df-quickchart {\n",
              "      --bg-color: #3B4455;\n",
              "      --fill-color: #D2E3FC;\n",
              "      --hover-bg-color: #434B5C;\n",
              "      --hover-fill-color: #FFFFFF;\n",
              "      --disabled-bg-color: #3B4455;\n",
              "      --disabled-fill-color: #666;\n",
              "  }\n",
              "\n",
              "  .colab-df-quickchart {\n",
              "    background-color: var(--bg-color);\n",
              "    border: none;\n",
              "    border-radius: 50%;\n",
              "    cursor: pointer;\n",
              "    display: none;\n",
              "    fill: var(--fill-color);\n",
              "    height: 32px;\n",
              "    padding: 0;\n",
              "    width: 32px;\n",
              "  }\n",
              "\n",
              "  .colab-df-quickchart:hover {\n",
              "    background-color: var(--hover-bg-color);\n",
              "    box-shadow: 0 1px 2px rgba(60, 64, 67, 0.3), 0 1px 3px 1px rgba(60, 64, 67, 0.15);\n",
              "    fill: var(--button-hover-fill-color);\n",
              "  }\n",
              "\n",
              "  .colab-df-quickchart-complete:disabled,\n",
              "  .colab-df-quickchart-complete:disabled:hover {\n",
              "    background-color: var(--disabled-bg-color);\n",
              "    fill: var(--disabled-fill-color);\n",
              "    box-shadow: none;\n",
              "  }\n",
              "\n",
              "  .colab-df-spinner {\n",
              "    border: 2px solid var(--fill-color);\n",
              "    border-color: transparent;\n",
              "    border-bottom-color: var(--fill-color);\n",
              "    animation:\n",
              "      spin 1s steps(1) infinite;\n",
              "  }\n",
              "\n",
              "  @keyframes spin {\n",
              "    0% {\n",
              "      border-color: transparent;\n",
              "      border-bottom-color: var(--fill-color);\n",
              "      border-left-color: var(--fill-color);\n",
              "    }\n",
              "    20% {\n",
              "      border-color: transparent;\n",
              "      border-left-color: var(--fill-color);\n",
              "      border-top-color: var(--fill-color);\n",
              "    }\n",
              "    30% {\n",
              "      border-color: transparent;\n",
              "      border-left-color: var(--fill-color);\n",
              "      border-top-color: var(--fill-color);\n",
              "      border-right-color: var(--fill-color);\n",
              "    }\n",
              "    40% {\n",
              "      border-color: transparent;\n",
              "      border-right-color: var(--fill-color);\n",
              "      border-top-color: var(--fill-color);\n",
              "    }\n",
              "    60% {\n",
              "      border-color: transparent;\n",
              "      border-right-color: var(--fill-color);\n",
              "    }\n",
              "    80% {\n",
              "      border-color: transparent;\n",
              "      border-right-color: var(--fill-color);\n",
              "      border-bottom-color: var(--fill-color);\n",
              "    }\n",
              "    90% {\n",
              "      border-color: transparent;\n",
              "      border-bottom-color: var(--fill-color);\n",
              "    }\n",
              "  }\n",
              "</style>\n",
              "\n",
              "  <script>\n",
              "    async function quickchart(key) {\n",
              "      const quickchartButtonEl =\n",
              "        document.querySelector('#' + key + ' button');\n",
              "      quickchartButtonEl.disabled = true;  // To prevent multiple clicks.\n",
              "      quickchartButtonEl.classList.add('colab-df-spinner');\n",
              "      try {\n",
              "        const charts = await google.colab.kernel.invokeFunction(\n",
              "            'suggestCharts', [key], {});\n",
              "      } catch (error) {\n",
              "        console.error('Error during call to suggestCharts:', error);\n",
              "      }\n",
              "      quickchartButtonEl.classList.remove('colab-df-spinner');\n",
              "      quickchartButtonEl.classList.add('colab-df-quickchart-complete');\n",
              "    }\n",
              "    (() => {\n",
              "      let quickchartButtonEl =\n",
              "        document.querySelector('#df-74ad97bd-2c9d-47b4-8bf2-67ff9b1402f7 button');\n",
              "      quickchartButtonEl.style.display =\n",
              "        google.colab.kernel.accessAllowed ? 'block' : 'none';\n",
              "    })();\n",
              "  </script>\n",
              "</div>\n",
              "    </div>\n",
              "  </div>\n"
            ]
          },
          "metadata": {},
          "execution_count": 16
        }
      ]
    },
    {
      "cell_type": "code",
      "source": [
        "# heatmap\n",
        "plt.figure(figsize=(12, 8))\n",
        "sns.heatmap(correlation_matrix, annot=True, cmap='coolwarm', fmt='.2f')\n",
        "plt.title('Correlation Heatmap of Numeric Columns')\n",
        "plt.show()"
      ],
      "metadata": {
        "colab": {
          "base_uri": "https://localhost:8080/",
          "height": 691
        },
        "id": "7VnRknzM4ou3",
        "outputId": "e80b9950-1397-4aa1-b786-86039472680b"
      },
      "execution_count": 15,
      "outputs": [
        {
          "output_type": "display_data",
          "data": {
            "text/plain": [
              "<Figure size 1200x800 with 2 Axes>"
            ],
            "image/png": "[encoded data removed]"
          },
          "metadata": {}
        }
      ]
    },
    {
      "cell_type": "code",
      "execution_count": 18,
      "metadata": {
        "id": "CdDZzsUztNEW"
      },
      "outputs": [],
      "source": [
        "# Your comment here\n",
        "# i may need to remove the following columns due to high collinearity\n",
        "# 1. TCP_CONVERSATION_EXCHANGE and SOURCE_APP_PACKETS\n",
        "# 2. TCP_CONVERSATION_EXCHANGE and REMOTE_APP_PACKETS\n",
        "# 3. SOURCE_APP_PACKETS and REMOTE_APP_PACKETS\n",
        "# 4. APP_BYTES and REMOTE_APP_BYTES"
      ]
    },
    {
      "cell_type": "markdown",
      "metadata": {
        "id": "OkJu8NiwtNEX"
      },
      "source": [
        "# Challenge 2 - Remove Column Collinearity.\n",
        "\n",
        "From the heatmap you created, you should have seen at least 3 columns that can be removed due to high collinearity. Remove these columns from the dataset.\n",
        "\n",
        "Note that you should remove as few columns as you can. You don't have to remove all the columns at once. But instead, try removing one column, then produce the heatmap again to determine if additional columns should be removed. As long as the dataset no longer contains columns that are correlated for over 90%, you can stop. Also, keep in mind when two columns have high collinearity, you only need to remove one of them but not both.\n",
        "\n",
        "In the cells below, remove as few columns as you can to eliminate the high collinearity in the dataset. Make sure to comment on your way so that the instructional team can learn about your thinking process which allows them to give feedback. At the end, print the heatmap again."
      ]
    },
    {
      "cell_type": "code",
      "execution_count": 19,
      "metadata": {
        "id": "-LjtCdhntNEX"
      },
      "outputs": [],
      "source": [
        "# Your code here\n",
        "websites_cleaned = websites.drop('TCP_CONVERSATION_EXCHANGE', axis=1)"
      ]
    },
    {
      "cell_type": "code",
      "source": [
        "correlation_matrix_cleaned = websites_cleaned.corr()"
      ],
      "metadata": {
        "colab": {
          "base_uri": "https://localhost:8080/"
        },
        "id": "dIAgYIjD5X63",
        "outputId": "ae9d0282-5927-40d8-da3c-67b1d5c8944e"
      },
      "execution_count": 20,
      "outputs": [
        {
          "output_type": "stream",
          "name": "stderr",
          "text": [
            "<ipython-input-20-4b8c2c049bae>:1: FutureWarning: The default value of numeric_only in DataFrame.corr is deprecated. In a future version, it will default to False. Select only valid columns or specify the value of numeric_only to silence this warning.\n",
            "  correlation_matrix_cleaned = websites_cleaned.corr()\n"
          ]
        }
      ]
    },
    {
      "cell_type": "code",
      "source": [
        "plt.figure(figsize=(12, 8))\n",
        "sns.heatmap(correlation_matrix_cleaned, annot=True, cmap='coolwarm', fmt='.2f')\n",
        "plt.title('Correlation Heatmap of Cleaned Dataset')\n",
        "plt.show()"
      ],
      "metadata": {
        "colab": {
          "base_uri": "https://localhost:8080/",
          "height": 691
        },
        "id": "kMbphuTi5ZUD",
        "outputId": "667155dd-7b72-4eca-e9e4-e1726a038528"
      },
      "execution_count": 21,
      "outputs": [
        {
          "output_type": "display_data",
          "data": {
            "text/plain": [
              "<Figure size 1200x800 with 2 Axes>"
            ],
            "image/png": "[encoded data removed]"
          },
          "metadata": {}
        }
      ]
    },
    {
      "cell_type": "code",
      "source": [
        "# new round\n",
        "columns_to_drop = ['NUMBER_SPECIAL_CHARACTERS', 'TCP_CONVERSATION_EXCHANGE', 'SOURCE_APP_PACKETS', 'REMOTE_APP_PACKETS', 'APP_BYTES', 'REMOTE_APP_BYTES']\n",
        "websites_cleaned = websites.drop(columns_to_drop, axis=1)"
      ],
      "metadata": {
        "id": "2Vsu0euD5lqt"
      },
      "execution_count": 31,
      "outputs": []
    },
    {
      "cell_type": "code",
      "source": [
        "correlation_matrix_cleaned = websites_cleaned.corr()"
      ],
      "metadata": {
        "colab": {
          "base_uri": "https://localhost:8080/"
        },
        "id": "OWRhQ1yF5qM8",
        "outputId": "fb84185e-3021-4476-f39f-f3eb94bd0998"
      },
      "execution_count": 32,
      "outputs": [
        {
          "output_type": "stream",
          "name": "stderr",
          "text": [
            "<ipython-input-32-4b8c2c049bae>:1: FutureWarning: The default value of numeric_only in DataFrame.corr is deprecated. In a future version, it will default to False. Select only valid columns or specify the value of numeric_only to silence this warning.\n",
            "  correlation_matrix_cleaned = websites_cleaned.corr()\n"
          ]
        }
      ]
    },
    {
      "cell_type": "code",
      "source": [
        "plt.figure(figsize=(12, 8))\n",
        "sns.heatmap(correlation_matrix_cleaned, annot=True, cmap='coolwarm', fmt='.2f')\n",
        "plt.title('Correlation Heatmap of Further Cleaned Dataset')\n",
        "plt.show()"
      ],
      "metadata": {
        "colab": {
          "base_uri": "https://localhost:8080/",
          "height": 683
        },
        "id": "2rtIBFLA5r2D",
        "outputId": "96930c5c-79dc-4a9d-9445-a3deb1dd9289"
      },
      "execution_count": 33,
      "outputs": [
        {
          "output_type": "display_data",
          "data": {
            "text/plain": [
              "<Figure size 1200x800 with 2 Axes>"
            ],
            "image/png": "[encoded data removed]"
          },
          "metadata": {}
        }
      ]
    },
    {
      "cell_type": "code",
      "execution_count": null,
      "metadata": {
        "id": "d8ylBHYltNEX"
      },
      "outputs": [],
      "source": [
        "# Your comment here\n",
        "# I ended up taking out many variables. Is that correct Bets? I took care of those relationship over 90% ."
      ]
    },
    {
      "cell_type": "markdown",
      "metadata": {
        "id": "D7FmcKyLtNEX"
      },
      "source": [
        "# Challenge 3 - Handle Missing Values\n",
        "\n",
        "The next step would be handling missing values. **We start by examining the number of missing values in each column, which you will do in the next cell.**"
      ]
    },
    {
      "cell_type": "code",
      "execution_count": 35,
      "metadata": {
        "id": "Xwa4l4YatNEY",
        "colab": {
          "base_uri": "https://localhost:8080/"
        },
        "outputId": "474eb223-d5ae-4a39-c270-0ddbd7a33a45"
      },
      "outputs": [
        {
          "output_type": "execute_result",
          "data": {
            "text/plain": [
              "URL                            0\n",
              "URL_LENGTH                     0\n",
              "NUMBER_SPECIAL_CHARACTERS      0\n",
              "CHARSET                        0\n",
              "SERVER                         1\n",
              "CONTENT_LENGTH               812\n",
              "WHOIS_COUNTRY                  0\n",
              "WHOIS_STATEPRO                 0\n",
              "WHOIS_REGDATE                  0\n",
              "WHOIS_UPDATED_DATE             0\n",
              "TCP_CONVERSATION_EXCHANGE      0\n",
              "DIST_REMOTE_TCP_PORT           0\n",
              "REMOTE_IPS                     0\n",
              "APP_BYTES                      0\n",
              "SOURCE_APP_PACKETS             0\n",
              "REMOTE_APP_PACKETS             0\n",
              "SOURCE_APP_BYTES               0\n",
              "REMOTE_APP_BYTES               0\n",
              "APP_PACKETS                    0\n",
              "DNS_QUERY_TIMES                1\n",
              "Type                           0\n",
              "dtype: int64"
            ]
          },
          "metadata": {},
          "execution_count": 35
        }
      ],
      "source": [
        "# Your code here\n",
        "missing_values = websites.isnull().sum()\n",
        "missing_values"
      ]
    },
    {
      "cell_type": "markdown",
      "metadata": {
        "id": "PRY8_WLxtNEY"
      },
      "source": [
        "If you remember in the previous labs, we drop a column if the column contains a high proportion of missing values. After dropping those problematic columns, we drop the rows with missing values.\n",
        "\n",
        "#### In the cells below, handle the missing values from the dataset. Remember to comment the rationale of your decisions."
      ]
    },
    {
      "cell_type": "code",
      "execution_count": 38,
      "metadata": {
        "id": "DKjgchj7tNEY"
      },
      "outputs": [],
      "source": [
        "# Your code here\n",
        "websites_cleaned = websites.drop('CONTENT_LENGTH', axis=1)\n",
        "# now we drop the rows\n",
        "websites_cleaned = websites_cleaned.dropna(subset=['SERVER', 'DNS_QUERY_TIMES'])\n",
        "# we check for missing values again\n",
        "missing_values_cleaned = websites_cleaned.isnull().sum()"
      ]
    },
    {
      "cell_type": "code",
      "source": [
        "missing_values_cleaned"
      ],
      "metadata": {
        "colab": {
          "base_uri": "https://localhost:8080/"
        },
        "id": "DOQ2jFha6zjN",
        "outputId": "81eeb406-40a0-4504-9eba-05c53d85707e"
      },
      "execution_count": 39,
      "outputs": [
        {
          "output_type": "execute_result",
          "data": {
            "text/plain": [
              "URL                          0\n",
              "URL_LENGTH                   0\n",
              "NUMBER_SPECIAL_CHARACTERS    0\n",
              "CHARSET                      0\n",
              "SERVER                       0\n",
              "WHOIS_COUNTRY                0\n",
              "WHOIS_STATEPRO               0\n",
              "WHOIS_REGDATE                0\n",
              "WHOIS_UPDATED_DATE           0\n",
              "TCP_CONVERSATION_EXCHANGE    0\n",
              "DIST_REMOTE_TCP_PORT         0\n",
              "REMOTE_IPS                   0\n",
              "APP_BYTES                    0\n",
              "SOURCE_APP_PACKETS           0\n",
              "REMOTE_APP_PACKETS           0\n",
              "SOURCE_APP_BYTES             0\n",
              "REMOTE_APP_BYTES             0\n",
              "APP_PACKETS                  0\n",
              "DNS_QUERY_TIMES              0\n",
              "Type                         0\n",
              "dtype: int64"
            ]
          },
          "metadata": {},
          "execution_count": 39
        }
      ]
    },
    {
      "cell_type": "markdown",
      "metadata": {
        "id": "5coEKiFFtNEY"
      },
      "source": [
        "#### Again, examine the number of missing values in each column.\n",
        "\n",
        "If all cleaned, proceed. Otherwise, go back and do more cleaning."
      ]
    },
    {
      "cell_type": "code",
      "execution_count": null,
      "metadata": {
        "id": "expPmBkqtNEY"
      },
      "outputs": [],
      "source": [
        "# Examine missing values in each column\n",
        "# already done above"
      ]
    },
    {
      "cell_type": "markdown",
      "metadata": {
        "id": "RMf_WdSWtNEY"
      },
      "source": [
        "# Challenge 4 - Handle `WHOIS_*` Categorical Data"
      ]
    },
    {
      "cell_type": "markdown",
      "metadata": {
        "id": "lpNx6kVftNEY"
      },
      "source": [
        "There are several categorical columns we need to handle. These columns are:\n",
        "\n",
        "* `URL`\n",
        "* `CHARSET`\n",
        "* `SERVER`\n",
        "* `WHOIS_COUNTRY`\n",
        "* `WHOIS_STATEPRO`\n",
        "* `WHOIS_REGDATE`\n",
        "* `WHOIS_UPDATED_DATE`\n",
        "\n",
        "How to handle string columns is always case by case. Let's start by working on `WHOIS_COUNTRY`. Your steps are:\n",
        "\n",
        "1. List out the unique values of `WHOIS_COUNTRY`.\n",
        "1. Consolidate the country values with consistent country codes. For example, the following values refer to the same country and should use consistent country code:\n",
        "    * `CY` and `Cyprus`\n",
        "    * `US` and `us`\n",
        "    * `SE` and `se`\n",
        "    * `GB`, `United Kingdom`, and `[u'GB'; u'UK']`\n",
        "\n",
        "#### In the cells below, fix the country values as intructed above."
      ]
    },
    {
      "cell_type": "code",
      "source": [
        "# 1. List out unique values of whois_country\n",
        "unique_countries = websites_cleaned['WHOIS_COUNTRY'].unique()"
      ],
      "metadata": {
        "id": "C18uUuHZ7AMY"
      },
      "execution_count": 40,
      "outputs": []
    },
    {
      "cell_type": "code",
      "source": [
        "# 2. consolidate country values\n",
        "country_mapping = {\n",
        "    'Cyprus': 'CY',\n",
        "    'us': 'US',\n",
        "    'se': 'SE',\n",
        "    'United Kingdom': 'GB',\n",
        "    \"[u'GB'; u'UK']\": 'GB'\n",
        "}"
      ],
      "metadata": {
        "id": "HdgQ58BY7FP7"
      },
      "execution_count": 41,
      "outputs": []
    },
    {
      "cell_type": "code",
      "execution_count": 45,
      "metadata": {
        "id": "gTK0kvF3tNEY"
      },
      "outputs": [],
      "source": [
        "# fixing the country values\n",
        "websites_cleaned['WHOIS_COUNTRY'] = websites_cleaned['WHOIS_COUNTRY'].replace(country_mapping)"
      ]
    },
    {
      "cell_type": "code",
      "source": [
        "# displaying the values\n",
        "unique_countries_fixed = websites_cleaned['WHOIS_COUNTRY'].unique()\n",
        "unique_countries_fixed"
      ],
      "metadata": {
        "colab": {
          "base_uri": "https://localhost:8080/"
        },
        "id": "F6auAclO7S1N",
        "outputId": "e7931cb6-e07e-4ca0-e90a-bc73f24c2998"
      },
      "execution_count": 46,
      "outputs": [
        {
          "output_type": "execute_result",
          "data": {
            "text/plain": [
              "array(['None', 'US', 'SC', 'GB', 'UK', 'RU', 'AU', 'CA', 'PA', 'SE', 'IN',\n",
              "       'LU', 'TH', 'FR', 'NL', 'UG', 'JP', 'CN', 'SI', 'IL', 'ru', 'KY',\n",
              "       'AT', 'CZ', 'PH', 'BE', 'NO', 'TR', 'LV', 'DE', 'ES', 'BR', 'KR',\n",
              "       'HK', 'UA', 'CH', 'BS', 'PK', 'IT', 'CY', 'BY', 'AE', 'IE', 'UY',\n",
              "       'KG'], dtype=object)"
            ]
          },
          "metadata": {},
          "execution_count": 46
        }
      ]
    },
    {
      "cell_type": "markdown",
      "metadata": {
        "id": "_spMuvzrtNEZ"
      },
      "source": [
        "Since we have fixed the country values, can we convert this column to ordinal now?\n",
        "\n",
        "Not yet. If you reflect on the previous labs how we handle categorical columns, you probably remember we ended up dropping a lot of those columns because there are too many unique values. Too many unique values in a column is not desirable in machine learning because it makes prediction inaccurate. But there are workarounds under certain conditions. One of the fixable conditions is:\n",
        "\n",
        "#### If a limited number of values account for the majority of data, we can retain these top values and re-label all other rare values.\n",
        "\n",
        "The `WHOIS_COUNTRY` column happens to be this case. You can verify it by print a bar chart of the `value_counts` in the next cell to verify:"
      ]
    },
    {
      "cell_type": "code",
      "execution_count": 47,
      "metadata": {
        "id": "I6oL06W9tNEZ",
        "colab": {
          "base_uri": "https://localhost:8080/",
          "height": 570
        },
        "outputId": "7018b4fc-1d77-4302-aeba-7ac608f419bf"
      },
      "outputs": [
        {
          "output_type": "display_data",
          "data": {
            "text/plain": [
              "<Figure size 1000x600 with 1 Axes>"
            ],
            "image/png": "[encoded data removed]"
          },
          "metadata": {}
        }
      ],
      "source": [
        "# Your code here\n",
        "plt.figure(figsize=(10, 6))\n",
        "websites_cleaned['WHOIS_COUNTRY'].value_counts().plot(kind='bar', color='skyblue')\n",
        "plt.title('Value Counts of WHOIS_COUNTRY')\n",
        "plt.xlabel('Country')\n",
        "plt.ylabel('Count')\n",
        "plt.xticks(rotation=45)\n",
        "plt.show()"
      ]
    },
    {
      "cell_type": "markdown",
      "metadata": {
        "id": "oaZz0lDstNEZ"
      },
      "source": [
        "#### After verifying, now let's keep the top 10 values of the column and re-label other columns with `OTHER`."
      ]
    },
    {
      "cell_type": "code",
      "execution_count": 48,
      "metadata": {
        "scrolled": true,
        "id": "bSEZR1_atNEZ"
      },
      "outputs": [],
      "source": [
        "# Your code here\n",
        "top_10_countries = websites_cleaned['WHOIS_COUNTRY'].value_counts().nlargest(10).index.tolist()\n"
      ]
    },
    {
      "cell_type": "code",
      "source": [
        "websites_cleaned['WHOIS_COUNTRY'] = websites_cleaned['WHOIS_COUNTRY'].apply(lambda x: x if x in top_10_countries else 'OTHER')\n"
      ],
      "metadata": {
        "id": "29QKRM-I7r3K"
      },
      "execution_count": 50,
      "outputs": []
    },
    {
      "cell_type": "code",
      "source": [
        "unique_countries_relabel = websites_cleaned['WHOIS_COUNTRY'].unique()\n",
        "unique_countries_relabel"
      ],
      "metadata": {
        "colab": {
          "base_uri": "https://localhost:8080/"
        },
        "id": "7kJeRDSW7vME",
        "outputId": "558fa01c-d407-40d8-b14e-9bcfb70a6a7a"
      },
      "execution_count": 52,
      "outputs": [
        {
          "output_type": "execute_result",
          "data": {
            "text/plain": [
              "array(['None', 'US', 'OTHER', 'GB', 'UK', 'AU', 'CA', 'PA', 'IN', 'JP',\n",
              "       'ES'], dtype=object)"
            ]
          },
          "metadata": {},
          "execution_count": 52
        }
      ]
    },
    {
      "cell_type": "markdown",
      "metadata": {
        "id": "1wd69BUJtNEZ"
      },
      "source": [
        "Now since `WHOIS_COUNTRY` has been re-labelled, we don't need `WHOIS_STATEPRO` any more because the values of the states or provinces may not be relevant any more. We'll drop this column.\n",
        "\n",
        "In addition, we will also drop `WHOIS_REGDATE` and `WHOIS_UPDATED_DATE`. These are the registration and update dates of the website domains. Not of our concerns.\n",
        "\n",
        "#### In the next cell, drop `['WHOIS_STATEPRO', 'WHOIS_REGDATE', 'WHOIS_UPDATED_DATE']`."
      ]
    },
    {
      "cell_type": "code",
      "execution_count": 53,
      "metadata": {
        "id": "YLswa8w9tNEZ"
      },
      "outputs": [],
      "source": [
        "# Your code here\n",
        "columns_to_drop = ['WHOIS_STATEPRO', 'WHOIS_REGDATE', 'WHOIS_UPDATED_DATE']\n",
        "websites_cleaned = websites_cleaned.drop(columns_to_drop, axis=1)"
      ]
    },
    {
      "cell_type": "code",
      "source": [
        "# check\n",
        "websites_cleaned.head()"
      ],
      "metadata": {
        "colab": {
          "base_uri": "https://localhost:8080/",
          "height": 278
        },
        "id": "4CqS9psw73N_",
        "outputId": "645f08c1-ad14-43db-d110-4dbb8d0483f6"
      },
      "execution_count": 54,
      "outputs": [
        {
          "output_type": "execute_result",
          "data": {
            "text/plain": [
              "       URL  URL_LENGTH  NUMBER_SPECIAL_CHARACTERS     CHARSET  \\\n",
              "0   M0_109          16                          7  iso-8859-1   \n",
              "1  B0_2314          16                          6       UTF-8   \n",
              "2   B0_911          16                          6    us-ascii   \n",
              "3   B0_113          17                          6  ISO-8859-1   \n",
              "4   B0_403          17                          6       UTF-8   \n",
              "\n",
              "                  SERVER WHOIS_COUNTRY  TCP_CONVERSATION_EXCHANGE  \\\n",
              "0                  nginx          None                          7   \n",
              "1          Apache/2.4.10          None                         17   \n",
              "2  Microsoft-HTTPAPI/2.0          None                          0   \n",
              "3                  nginx            US                         31   \n",
              "4                   None            US                         57   \n",
              "\n",
              "   DIST_REMOTE_TCP_PORT  REMOTE_IPS  APP_BYTES  SOURCE_APP_PACKETS  \\\n",
              "0                     0           2        700                   9   \n",
              "1                     7           4       1230                  17   \n",
              "2                     0           0          0                   0   \n",
              "3                    22           3       3812                  39   \n",
              "4                     2           5       4278                  61   \n",
              "\n",
              "   REMOTE_APP_PACKETS  SOURCE_APP_BYTES  REMOTE_APP_BYTES  APP_PACKETS  \\\n",
              "0                  10              1153               832            9   \n",
              "1                  19              1265              1230           17   \n",
              "2                   0                 0                 0            0   \n",
              "3                  37             18784              4380           39   \n",
              "4                  62            129889              4586           61   \n",
              "\n",
              "   DNS_QUERY_TIMES  Type  \n",
              "0              2.0     1  \n",
              "1              0.0     0  \n",
              "2              0.0     0  \n",
              "3              8.0     0  \n",
              "4              4.0     0  "
            ],
            "text/html": [
              "\n",
              "  <div id=\"df-23a04979-f75a-4f6a-82c6-c68cd791ae43\" class=\"colab-df-container\">\n",
              "    <div>\n",
              "<style scoped>\n",
              "    .dataframe tbody tr th:only-of-type {\n",
              "        vertical-align: middle;\n",
              "    }\n",
              "\n",
              "    .dataframe tbody tr th {\n",
              "        vertical-align: top;\n",
              "    }\n",
              "\n",
              "    .dataframe thead th {\n",
              "        text-align: right;\n",
              "    }\n",
              "</style>\n",
              "<table border=\"1\" class=\"dataframe\">\n",
              "  <thead>\n",
              "    <tr style=\"text-align: right;\">\n",
              "      <th></th>\n",
              "      <th>URL</th>\n",
              "      <th>URL_LENGTH</th>\n",
              "      <th>NUMBER_SPECIAL_CHARACTERS</th>\n",
              "      <th>CHARSET</th>\n",
              "      <th>SERVER</th>\n",
              "      <th>WHOIS_COUNTRY</th>\n",
              "      <th>TCP_CONVERSATION_EXCHANGE</th>\n",
              "      <th>DIST_REMOTE_TCP_PORT</th>\n",
              "      <th>REMOTE_IPS</th>\n",
              "      <th>APP_BYTES</th>\n",
              "      <th>SOURCE_APP_PACKETS</th>\n",
              "      <th>REMOTE_APP_PACKETS</th>\n",
              "      <th>SOURCE_APP_BYTES</th>\n",
              "      <th>REMOTE_APP_BYTES</th>\n",
              "      <th>APP_PACKETS</th>\n",
              "      <th>DNS_QUERY_TIMES</th>\n",
              "      <th>Type</th>\n",
              "    </tr>\n",
              "  </thead>\n",
              "  <tbody>\n",
              "    <tr>\n",
              "      <th>0</th>\n",
              "      <td>M0_109</td>\n",
              "      <td>16</td>\n",
              "      <td>7</td>\n",
              "      <td>iso-8859-1</td>\n",
              "      <td>nginx</td>\n",
              "      <td>None</td>\n",
              "      <td>7</td>\n",
              "      <td>0</td>\n",
              "      <td>2</td>\n",
              "      <td>700</td>\n",
              "      <td>9</td>\n",
              "      <td>10</td>\n",
              "      <td>1153</td>\n",
              "      <td>832</td>\n",
              "      <td>9</td>\n",
              "      <td>2.0</td>\n",
              "      <td>1</td>\n",
              "    </tr>\n",
              "    <tr>\n",
              "      <th>1</th>\n",
              "      <td>B0_2314</td>\n",
              "      <td>16</td>\n",
              "      <td>6</td>\n",
              "      <td>UTF-8</td>\n",
              "      <td>Apache/2.4.10</td>\n",
              "      <td>None</td>\n",
              "      <td>17</td>\n",
              "      <td>7</td>\n",
              "      <td>4</td>\n",
              "      <td>1230</td>\n",
              "      <td>17</td>\n",
              "      <td>19</td>\n",
              "      <td>1265</td>\n",
              "      <td>1230</td>\n",
              "      <td>17</td>\n",
              "      <td>0.0</td>\n",
              "      <td>0</td>\n",
              "    </tr>\n",
              "    <tr>\n",
              "      <th>2</th>\n",
              "      <td>B0_911</td>\n",
              "      <td>16</td>\n",
              "      <td>6</td>\n",
              "      <td>us-ascii</td>\n",
              "      <td>Microsoft-HTTPAPI/2.0</td>\n",
              "      <td>None</td>\n",
              "      <td>0</td>\n",
              "      <td>0</td>\n",
              "      <td>0</td>\n",
              "      <td>0</td>\n",
              "      <td>0</td>\n",
              "      <td>0</td>\n",
              "      <td>0</td>\n",
              "      <td>0</td>\n",
              "      <td>0</td>\n",
              "      <td>0.0</td>\n",
              "      <td>0</td>\n",
              "    </tr>\n",
              "    <tr>\n",
              "      <th>3</th>\n",
              "      <td>B0_113</td>\n",
              "      <td>17</td>\n",
              "      <td>6</td>\n",
              "      <td>ISO-8859-1</td>\n",
              "      <td>nginx</td>\n",
              "      <td>US</td>\n",
              "      <td>31</td>\n",
              "      <td>22</td>\n",
              "      <td>3</td>\n",
              "      <td>3812</td>\n",
              "      <td>39</td>\n",
              "      <td>37</td>\n",
              "      <td>18784</td>\n",
              "      <td>4380</td>\n",
              "      <td>39</td>\n",
              "      <td>8.0</td>\n",
              "      <td>0</td>\n",
              "    </tr>\n",
              "    <tr>\n",
              "      <th>4</th>\n",
              "      <td>B0_403</td>\n",
              "      <td>17</td>\n",
              "      <td>6</td>\n",
              "      <td>UTF-8</td>\n",
              "      <td>None</td>\n",
              "      <td>US</td>\n",
              "      <td>57</td>\n",
              "      <td>2</td>\n",
              "      <td>5</td>\n",
              "      <td>4278</td>\n",
              "      <td>61</td>\n",
              "      <td>62</td>\n",
              "      <td>129889</td>\n",
              "      <td>4586</td>\n",
              "      <td>61</td>\n",
              "      <td>4.0</td>\n",
              "      <td>0</td>\n",
              "    </tr>\n",
              "  </tbody>\n",
              "</table>\n",
              "</div>\n",
              "    <div class=\"colab-df-buttons\">\n",
              "\n",
              "  <div class=\"colab-df-container\">\n",
              "    <button class=\"colab-df-convert\" onclick=\"convertToInteractive('df-23a04979-f75a-4f6a-82c6-c68cd791ae43')\"\n",
              "            title=\"Convert this dataframe to an interactive table.\"\n",
              "            style=\"display:none;\">\n",
              "\n",
              "  <svg xmlns=\"http://www.w3.org/2000/svg\" height=\"24px\" viewBox=\"0 -960 960 960\">\n",
              "    <path d=\"M120-120v-720h720v720H120Zm60-500h600v-160H180v160Zm220 220h160v-160H400v160Zm0 220h160v-160H400v160ZM180-400h160v-160H180v160Zm440 0h160v-160H620v160ZM180-180h160v-160H180v160Zm440 0h160v-160H620v160Z\"/>\n",
              "  </svg>\n",
              "    </button>\n",
              "\n",
              "  <style>\n",
              "    .colab-df-container {\n",
              "      display:flex;\n",
              "      gap: 12px;\n",
              "    }\n",
              "\n",
              "    .colab-df-convert {\n",
              "      background-color: #E8F0FE;\n",
              "      border: none;\n",
              "      border-radius: 50%;\n",
              "      cursor: pointer;\n",
              "      display: none;\n",
              "      fill: #1967D2;\n",
              "      height: 32px;\n",
              "      padding: 0 0 0 0;\n",
              "      width: 32px;\n",
              "    }\n",
              "\n",
              "    .colab-df-convert:hover {\n",
              "      background-color: #E2EBFA;\n",
              "      box-shadow: 0px 1px 2px rgba(60, 64, 67, 0.3), 0px 1px 3px 1px rgba(60, 64, 67, 0.15);\n",
              "      fill: #174EA6;\n",
              "    }\n",
              "\n",
              "    .colab-df-buttons div {\n",
              "      margin-bottom: 4px;\n",
              "    }\n",
              "\n",
              "    [theme=dark] .colab-df-convert {\n",
              "      background-color: #3B4455;\n",
              "      fill: #D2E3FC;\n",
              "    }\n",
              "\n",
              "    [theme=dark] .colab-df-convert:hover {\n",
              "      background-color: #434B5C;\n",
              "      box-shadow: 0px 1px 3px 1px rgba(0, 0, 0, 0.15);\n",
              "      filter: drop-shadow(0px 1px 2px rgba(0, 0, 0, 0.3));\n",
              "      fill: #FFFFFF;\n",
              "    }\n",
              "  </style>\n",
              "\n",
              "    <script>\n",
              "      const buttonEl =\n",
              "        document.querySelector('#df-23a04979-f75a-4f6a-82c6-c68cd791ae43 button.colab-df-convert');\n",
              "      buttonEl.style.display =\n",
              "        google.colab.kernel.accessAllowed ? 'block' : 'none';\n",
              "\n",
              "      async function convertToInteractive(key) {\n",
              "        const element = document.querySelector('#df-23a04979-f75a-4f6a-82c6-c68cd791ae43');\n",
              "        const dataTable =\n",
              "          await google.colab.kernel.invokeFunction('convertToInteractive',\n",
              "                                                    [key], {});\n",
              "        if (!dataTable) return;\n",
              "\n",
              "        const docLinkHtml = 'Like what you see? Visit the ' +\n",
              "          '<a target=\"_blank\" href=https://colab.research.google.com/notebooks/data_table.ipynb>data table notebook</a>'\n",
              "          + ' to learn more about interactive tables.';\n",
              "        element.innerHTML = '';\n",
              "        dataTable['output_type'] = 'display_data';\n",
              "        await google.colab.output.renderOutput(dataTable, element);\n",
              "        const docLink = document.createElement('div');\n",
              "        docLink.innerHTML = docLinkHtml;\n",
              "        element.appendChild(docLink);\n",
              "      }\n",
              "    </script>\n",
              "  </div>\n",
              "\n",
              "\n",
              "<div id=\"df-845ca4b0-e032-4909-8597-1020ad35e8ea\">\n",
              "  <button class=\"colab-df-quickchart\" onclick=\"quickchart('df-845ca4b0-e032-4909-8597-1020ad35e8ea')\"\n",
              "            title=\"Suggest charts\"\n",
              "            style=\"display:none;\">\n",
              "\n",
              "<svg xmlns=\"http://www.w3.org/2000/svg\" height=\"24px\"viewBox=\"0 0 24 24\"\n",
              "     width=\"24px\">\n",
              "    <g>\n",
              "        <path d=\"M19 3H5c-1.1 0-2 .9-2 2v14c0 1.1.9 2 2 2h14c1.1 0 2-.9 2-2V5c0-1.1-.9-2-2-2zM9 17H7v-7h2v7zm4 0h-2V7h2v10zm4 0h-2v-4h2v4z\"/>\n",
              "    </g>\n",
              "</svg>\n",
              "  </button>\n",
              "\n",
              "<style>\n",
              "  .colab-df-quickchart {\n",
              "      --bg-color: #E8F0FE;\n",
              "      --fill-color: #1967D2;\n",
              "      --hover-bg-color: #E2EBFA;\n",
              "      --hover-fill-color: #174EA6;\n",
              "      --disabled-fill-color: #AAA;\n",
              "      --disabled-bg-color: #DDD;\n",
              "  }\n",
              "\n",
              "  [theme=dark] .colab-df-quickchart {\n",
              "      --bg-color: #3B4455;\n",
              "      --fill-color: #D2E3FC;\n",
              "      --hover-bg-color: #434B5C;\n",
              "      --hover-fill-color: #FFFFFF;\n",
              "      --disabled-bg-color: #3B4455;\n",
              "      --disabled-fill-color: #666;\n",
              "  }\n",
              "\n",
              "  .colab-df-quickchart {\n",
              "    background-color: var(--bg-color);\n",
              "    border: none;\n",
              "    border-radius: 50%;\n",
              "    cursor: pointer;\n",
              "    display: none;\n",
              "    fill: var(--fill-color);\n",
              "    height: 32px;\n",
              "    padding: 0;\n",
              "    width: 32px;\n",
              "  }\n",
              "\n",
              "  .colab-df-quickchart:hover {\n",
              "    background-color: var(--hover-bg-color);\n",
              "    box-shadow: 0 1px 2px rgba(60, 64, 67, 0.3), 0 1px 3px 1px rgba(60, 64, 67, 0.15);\n",
              "    fill: var(--button-hover-fill-color);\n",
              "  }\n",
              "\n",
              "  .colab-df-quickchart-complete:disabled,\n",
              "  .colab-df-quickchart-complete:disabled:hover {\n",
              "    background-color: var(--disabled-bg-color);\n",
              "    fill: var(--disabled-fill-color);\n",
              "    box-shadow: none;\n",
              "  }\n",
              "\n",
              "  .colab-df-spinner {\n",
              "    border: 2px solid var(--fill-color);\n",
              "    border-color: transparent;\n",
              "    border-bottom-color: var(--fill-color);\n",
              "    animation:\n",
              "      spin 1s steps(1) infinite;\n",
              "  }\n",
              "\n",
              "  @keyframes spin {\n",
              "    0% {\n",
              "      border-color: transparent;\n",
              "      border-bottom-color: var(--fill-color);\n",
              "      border-left-color: var(--fill-color);\n",
              "    }\n",
              "    20% {\n",
              "      border-color: transparent;\n",
              "      border-left-color: var(--fill-color);\n",
              "      border-top-color: var(--fill-color);\n",
              "    }\n",
              "    30% {\n",
              "      border-color: transparent;\n",
              "      border-left-color: var(--fill-color);\n",
              "      border-top-color: var(--fill-color);\n",
              "      border-right-color: var(--fill-color);\n",
              "    }\n",
              "    40% {\n",
              "      border-color: transparent;\n",
              "      border-right-color: var(--fill-color);\n",
              "      border-top-color: var(--fill-color);\n",
              "    }\n",
              "    60% {\n",
              "      border-color: transparent;\n",
              "      border-right-color: var(--fill-color);\n",
              "    }\n",
              "    80% {\n",
              "      border-color: transparent;\n",
              "      border-right-color: var(--fill-color);\n",
              "      border-bottom-color: var(--fill-color);\n",
              "    }\n",
              "    90% {\n",
              "      border-color: transparent;\n",
              "      border-bottom-color: var(--fill-color);\n",
              "    }\n",
              "  }\n",
              "</style>\n",
              "\n",
              "  <script>\n",
              "    async function quickchart(key) {\n",
              "      const quickchartButtonEl =\n",
              "        document.querySelector('#' + key + ' button');\n",
              "      quickchartButtonEl.disabled = true;  // To prevent multiple clicks.\n",
              "      quickchartButtonEl.classList.add('colab-df-spinner');\n",
              "      try {\n",
              "        const charts = await google.colab.kernel.invokeFunction(\n",
              "            'suggestCharts', [key], {});\n",
              "      } catch (error) {\n",
              "        console.error('Error during call to suggestCharts:', error);\n",
              "      }\n",
              "      quickchartButtonEl.classList.remove('colab-df-spinner');\n",
              "      quickchartButtonEl.classList.add('colab-df-quickchart-complete');\n",
              "    }\n",
              "    (() => {\n",
              "      let quickchartButtonEl =\n",
              "        document.querySelector('#df-845ca4b0-e032-4909-8597-1020ad35e8ea button');\n",
              "      quickchartButtonEl.style.display =\n",
              "        google.colab.kernel.accessAllowed ? 'block' : 'none';\n",
              "    })();\n",
              "  </script>\n",
              "</div>\n",
              "    </div>\n",
              "  </div>\n"
            ]
          },
          "metadata": {},
          "execution_count": 54
        }
      ]
    },
    {
      "cell_type": "markdown",
      "metadata": {
        "id": "t4hCJXLZtNEZ"
      },
      "source": [
        "# Challenge 5 - Handle Remaining Categorical Data & Convert to Ordinal\n",
        "\n",
        "Now print the `dtypes` of the data again. Besides `WHOIS_COUNTRY` which we already fixed, there should be 3 categorical columns left: `URL`, `CHARSET`, and `SERVER`."
      ]
    },
    {
      "cell_type": "code",
      "execution_count": 55,
      "metadata": {
        "id": "i71fqAW0tNEZ",
        "colab": {
          "base_uri": "https://localhost:8080/"
        },
        "outputId": "e2b9a07f-caf8-4534-bc4d-427d574662d1"
      },
      "outputs": [
        {
          "output_type": "execute_result",
          "data": {
            "text/plain": [
              "URL        object\n",
              "CHARSET    object\n",
              "SERVER     object\n",
              "dtype: object"
            ]
          },
          "metadata": {},
          "execution_count": 55
        }
      ],
      "source": [
        "# Your code here\n",
        "remaining_categorical = websites_cleaned[['URL', 'CHARSET', 'SERVER']]\n",
        "remaining_categorical.dtypes"
      ]
    },
    {
      "cell_type": "markdown",
      "metadata": {
        "id": "qBgfX4hHtNEa"
      },
      "source": [
        "#### `URL` is easy. We'll simply drop it because it has too many unique values that there's no way for us to consolidate."
      ]
    },
    {
      "cell_type": "code",
      "execution_count": 56,
      "metadata": {
        "id": "xu41sum-tNEa"
      },
      "outputs": [],
      "source": [
        "# Your code here\n",
        "websites_cleaned = websites_cleaned.drop('URL', axis=1)"
      ]
    },
    {
      "cell_type": "markdown",
      "metadata": {
        "id": "KaRUVvRytNEa"
      },
      "source": [
        "#### Print the unique value counts of `CHARSET`. You see there are only a few unique values. So we can keep it as it is."
      ]
    },
    {
      "cell_type": "code",
      "execution_count": 57,
      "metadata": {
        "id": "f8WvswuYtNEa",
        "colab": {
          "base_uri": "https://localhost:8080/"
        },
        "outputId": "1d838197-af12-4f4c-ff4e-43fef17ef411"
      },
      "outputs": [
        {
          "output_type": "execute_result",
          "data": {
            "text/plain": [
              "UTF-8           674\n",
              "ISO-8859-1      427\n",
              "utf-8           379\n",
              "us-ascii        155\n",
              "iso-8859-1      134\n",
              "None              7\n",
              "windows-1251      1\n",
              "ISO-8859          1\n",
              "windows-1252      1\n",
              "Name: CHARSET, dtype: int64"
            ]
          },
          "metadata": {},
          "execution_count": 57
        }
      ],
      "source": [
        "# Your code here\n",
        "charsets_unique_counts = websites_cleaned['CHARSET'].value_counts()\n",
        "charsets_unique_counts"
      ]
    },
    {
      "cell_type": "markdown",
      "metadata": {
        "id": "sQ3R0ul2tNEa"
      },
      "source": [
        "`SERVER` is a little more complicated. Print its unique values and think about how you can consolidate those values.\n",
        "\n",
        "#### Before you think of your own solution, don't read the instructions that come next."
      ]
    },
    {
      "cell_type": "code",
      "execution_count": 58,
      "metadata": {
        "id": "8HYCgqP4tNEa",
        "colab": {
          "base_uri": "https://localhost:8080/"
        },
        "outputId": "d1a7f53a-eb47-4008-dc3d-0117fb1065a2"
      },
      "outputs": [
        {
          "output_type": "execute_result",
          "data": {
            "text/plain": [
              "array(['nginx', 'Apache/2.4.10', 'Microsoft-HTTPAPI/2.0', 'None',\n",
              "       'Apache/2', 'nginx/1.10.1', 'Apache', 'Apache/2.2.15 (Red Hat)',\n",
              "       'Apache/2.4.23 (Unix) OpenSSL/1.0.1e-fips mod_bwlimited/1.4',\n",
              "       'openresty/1.11.2.1', 'Apache/2.2.22', 'Apache/2.4.7 (Ubuntu)',\n",
              "       'nginx/1.12.0',\n",
              "       'Apache/2.4.12 (Unix) OpenSSL/1.0.1e-fips mod_bwlimited/1.4',\n",
              "       'Oracle-iPlanet-Web-Server/7.0', 'cloudflare-nginx', 'nginx/1.6.2',\n",
              "       'openresty', 'Heptu web server', 'Pepyaka/1.11.3', 'nginx/1.8.0',\n",
              "       'nginx/1.10.1 + Phusion Passenger 5.0.30',\n",
              "       'Apache/2.2.29 (Amazon)', 'Microsoft-IIS/7.5', 'LiteSpeed',\n",
              "       'Apache/2.4.25 (cPanel) OpenSSL/1.0.1e-fips mod_bwlimited/1.4',\n",
              "       'tsa_c', 'Apache/2.2.0 (Fedora)', 'Apache/2.2.22 (Debian)',\n",
              "       'Apache/2.2.15 (CentOS)', 'Apache/2.4.25',\n",
              "       'Apache/2.4.25 (Amazon) PHP/7.0.14', 'GSE',\n",
              "       'Apache/2.4.23 (Unix) OpenSSL/0.9.8e-fips-rhel5 mod_bwlimited/1.4',\n",
              "       'Apache/2.4.25 (Amazon) OpenSSL/1.0.1k-fips',\n",
              "       'Apache/2.2.22 (Ubuntu)', 'Tengine',\n",
              "       'Apache/2.4.18 (Unix) OpenSSL/0.9.8e-fips-rhel5 mod_bwlimited/1.4',\n",
              "       'Apache/2.4.10 (Debian)', 'Apache/2.4.6 (CentOS) PHP/5.6.8',\n",
              "       'Sun-ONE-Web-Server/6.1',\n",
              "       'Apache/2.4.18 (Unix) OpenSSL/1.0.2e Communique/4.1.10',\n",
              "       'AmazonS3',\n",
              "       'Apache/1.3.37 (Unix) mod_perl/1.29 mod_ssl/2.8.28 OpenSSL/0.9.7e-p1',\n",
              "       'ATS', 'Apache/2.2.27 (CentOS)',\n",
              "       'Apache/2.2.29 (Unix) mod_ssl/2.2.29 OpenSSL/1.0.1e-fips DAV/2 mod_bwlimited/1.4',\n",
              "       'CherryPy/3.6.0', 'Server', 'KHL',\n",
              "       'Apache/2.4.6 (CentOS) OpenSSL/1.0.1e-fips mod_fcgid/2.3.9 PHP/5.4.16 mod_jk/1.2.40',\n",
              "       'Apache/2.2.3 (CentOS)', 'Apache/2.4',\n",
              "       'Apache/1.3.27 (Unix)  (Red-Hat/Linux) mod_perl/1.26 PHP/4.3.3 FrontPage/5.0.2 mod_ssl/2.8.12 OpenSSL/0.9.6b',\n",
              "       'mw2114.codfw.wmnet',\n",
              "       'Apache/2.2.31 (Unix) mod_ssl/2.2.31 OpenSSL/1.0.1e-fips mod_bwlimited/1.4 mod_perl/2.0.8 Perl/v5.10.1',\n",
              "       'Apache/1.3.34 (Unix) PHP/4.4.4', 'Apache/2.2.31 (Amazon)',\n",
              "       'Jetty(9.0.z-SNAPSHOT)', 'Apache/2.2.31 (CentOS)',\n",
              "       'Apache/2.4.12 (Ubuntu)', 'HTTPDaemon',\n",
              "       'Apache/2.2.29 (Unix) mod_ssl/2.2.29 OpenSSL/1.0.1e-fips mod_bwlimited/1.4',\n",
              "       'MediaFire', 'DOSarrest', 'mw2232.codfw.wmnet',\n",
              "       'Sucuri/Cloudproxy', 'Apache/2.4.23 (Unix)', 'nginx/0.7.65',\n",
              "       'mw2260.codfw.wmnet', 'Apache/2.2.32', 'mw2239.codfw.wmnet',\n",
              "       'DPS/1.1.8', 'Apache/2.0.52 (Red Hat)',\n",
              "       'Apache/2.2.25 (Unix) mod_ssl/2.2.25 OpenSSL/0.9.8e-fips-rhel5 mod_bwlimited/1.4',\n",
              "       'Apache/1.3.31 (Unix) PHP/4.3.9 mod_perl/1.29 rus/PL30.20',\n",
              "       'Apache/2.2.13 (Unix) mod_ssl/2.2.13 OpenSSL/0.9.8e-fips-rhel5 mod_auth_passthrough/2.1 mod_bwlimited/1.4 PHP/5.2.10',\n",
              "       'nginx/1.1.19', 'ATS/5.3.0', 'Apache/2.2.3 (Red Hat)',\n",
              "       'nginx/1.4.3',\n",
              "       'Apache/2.2.29 (Unix) mod_ssl/2.2.29 OpenSSL/1.0.1e-fips mod_bwlimited/1.4 PHP/5.4.35',\n",
              "       'Apache/2.2.14 (FreeBSD) mod_ssl/2.2.14 OpenSSL/0.9.8y DAV/2 PHP/5.2.12 with Suhosin-Patch',\n",
              "       'Apache/2.2.14 (Unix) mod_ssl/2.2.14 OpenSSL/0.9.8e-fips-rhel5',\n",
              "       'Apache/1.3.39 (Unix) PHP/5.2.5 mod_auth_passthrough/1.8 mod_bwlimited/1.4 mod_log_bytes/1.2 mod_gzip/1.3.26.1a FrontPage/5.0.2.2635 DAV/1.0.3 mod_ssl/2.8.30 OpenSSL/0.9.7a',\n",
              "       'SSWS', 'Microsoft-IIS/8.0', 'Apache/2.4.18 (Ubuntu)',\n",
              "       'Apache/2.4.6 (CentOS) OpenSSL/1.0.1e-fips PHP/5.4.16 mod_apreq2-20090110/2.8.0 mod_perl/2.0.10 Perl/v5.24.1',\n",
              "       'Apache/2.2.20 (Unix)', 'YouTubeFrontEnd', 'nginx/1.11.3',\n",
              "       'nginx/1.11.2', 'nginx/1.10.0 (Ubuntu)', 'nginx/1.8.1',\n",
              "       'nginx/1.11.10', 'Squeegit/1.2.5 (3_sir)',\n",
              "       'Virtuoso/07.20.3217 (Linux) i686-generic-linux-glibc212-64  VDB',\n",
              "       'Apache-Coyote/1.1', 'Yippee-Ki-Yay', 'mw2165.codfw.wmnet',\n",
              "       'mw2192.codfw.wmnet', 'Apache/2.2.23 (Amazon)',\n",
              "       'nginx/1.4.6 (Ubuntu)', 'nginx + Phusion Passenger',\n",
              "       'Proxy Pandeiro UOL', 'mw2231.codfw.wmnet', 'openresty/1.11.2.2',\n",
              "       'mw2109.codfw.wmnet', 'nginx/0.8.54', 'Apache/2.4.6',\n",
              "       'mw2225.codfw.wmnet', 'Apache/1.3.27 (Unix) PHP/4.4.1',\n",
              "       'mw2236.codfw.wmnet', 'mw2101.codfw.wmnet', 'Varnish',\n",
              "       'Resin/3.1.8', 'mw2164.codfw.wmnet', 'Microsoft-IIS/8.5',\n",
              "       'mw2242.codfw.wmnet',\n",
              "       'Apache/2.4.6 (CentOS) OpenSSL/1.0.1e-fips PHP/5.5.38',\n",
              "       'mw2175.codfw.wmnet', 'mw2107.codfw.wmnet', 'mw2190.codfw.wmnet',\n",
              "       'Apache/2.4.6 (CentOS)', 'nginx/1.13.0', 'barista/5.1.3',\n",
              "       'mw2103.codfw.wmnet', 'Apache/2.4.25 (Debian)', 'ECD (fll/0790)',\n",
              "       'Pagely Gateway/1.5.1', 'nginx/1.10.3',\n",
              "       'Apache/2.4.25 (FreeBSD) OpenSSL/1.0.1s-freebsd PHP/5.6.30',\n",
              "       'mw2097.codfw.wmnet', 'mw2233.codfw.wmnet', 'fbs',\n",
              "       'mw2199.codfw.wmnet', 'mw2255.codfw.wmnet', 'mw2228.codfw.wmnet',\n",
              "       'Apache/2.2.31 (Unix) mod_ssl/2.2.31 OpenSSL/1.0.1e-fips mod_bwlimited/1.4 mod_fcgid/2.3.9',\n",
              "       'gunicorn/19.7.1',\n",
              "       'Apache/2.2.31 (Unix) mod_ssl/2.2.31 OpenSSL/0.9.8e-fips-rhel5 mod_bwlimited/1.4',\n",
              "       'Apache/2.4.6 (CentOS) OpenSSL/1.0.1e-fips PHP/5.4.16',\n",
              "       'mw2241.codfw.wmnet',\n",
              "       'Apache/1.3.33 (Unix) mod_ssl/2.8.24 OpenSSL/0.9.7e-p1 PHP/4.4.8',\n",
              "       'lighttpd', 'mw2230.codfw.wmnet',\n",
              "       'Apache/2.4.6 (CentOS) OpenSSL/1.0.1e-fips', 'AkamaiGHost',\n",
              "       'mw2240.codfw.wmnet', 'nginx/1.10.2', 'PWS/8.2.0.7', 'nginx/1.2.1',\n",
              "       'nxfps',\n",
              "       'Apache/2.2.16 (Unix) mod_ssl/2.2.16 OpenSSL/0.9.8e-fips-rhel5 mod_auth_passthrough/2.1 mod_bwlimited/1.4',\n",
              "       'Play', 'mw2185.codfw.wmnet',\n",
              "       'Apache/2.4.10 (Unix) OpenSSL/1.0.1k',\n",
              "       'Apache/Not telling (Unix) AuthTDS/1.1',\n",
              "       'Apache/2.2.11 (Unix) PHP/5.2.6', 'Scratch Web Server',\n",
              "       'marrakesh 1.12.2', 'nginx/0.8.35', 'mw2182.codfw.wmnet',\n",
              "       'squid/3.3.8', 'nginx/1.10.0', 'Nginx (OpenBSD)',\n",
              "       'Zope/(2.13.16; python 2.6.8; linux2) ZServer/1.1',\n",
              "       'Apache/2.2.26 (Unix) mod_ssl/2.2.26 OpenSSL/0.9.8e-fips-rhel5 mod_bwlimited/1.4 PHP/5.4.26',\n",
              "       'Apache/2.2.21 (Unix) mod_ssl/2.2.21 OpenSSL/0.9.8e-fips-rhel5 PHP/5.3.10',\n",
              "       'Apache/2.2.27 (Unix) OpenAM Web Agent/4.0.1-1 mod_ssl/2.2.27 OpenSSL/1.0.1p PHP/5.3.28',\n",
              "       'mw2104.codfw.wmnet', '.V01 Apache', 'mw2110.codfw.wmnet',\n",
              "       'Apache/2.4.6 (Unix) mod_jk/1.2.37 PHP/5.5.1 OpenSSL/1.0.1g mod_fcgid/2.3.9',\n",
              "       'mw2176.codfw.wmnet', 'mw2187.codfw.wmnet', 'mw2106.codfw.wmnet',\n",
              "       'Microsoft-IIS/7.0',\n",
              "       'Apache/1.3.42 Ben-SSL/1.60 (Unix) mod_gzip/1.3.26.1a mod_fastcgi/2.4.6 mod_throttle/3.1.2 Chili!Soft-ASP/3.6.2 FrontPage/5.0.2.2635 mod_perl/1.31 PHP/4.4.9',\n",
              "       'Aeria Games & Entertainment', 'nginx/1.6.3 + Phusion Passenger',\n",
              "       'Apache/2.4.10 (Debian) PHP/5.6.30-0+deb8u1 mod_perl/2.0.9dev Perl/v5.20.2',\n",
              "       'mw2173.codfw.wmnet',\n",
              "       'Apache/2.4.6 (Red Hat Enterprise Linux) OpenSSL/1.0.1e-fips mod_fcgid/2.3.9 Communique/4.2.0',\n",
              "       'Apache/2.2.15 (CentOS) DAV/2 mod_ssl/2.2.15 OpenSSL/1.0.1e-fips PHP/5.3.3',\n",
              "       'Apache/2.4.6 (CentOS) OpenSSL/1.0.1e-fips PHP/7.0.14',\n",
              "       'mw2198.codfw.wmnet', 'mw2172.codfw.wmnet', 'nginx/1.2.6',\n",
              "       'Apache/2.4.6 (Unix) mod_jk/1.2.37',\n",
              "       'Apache/2.4.25 (Unix) OpenSSL/1.0.1e-fips mod_bwlimited/1.4',\n",
              "       'nginx/1.4.4', 'Cowboy', 'mw2113.codfw.wmnet',\n",
              "       'Apache/2.2.14 (Unix) mod_ssl/2.2.14 OpenSSL/0.9.8a',\n",
              "       'Apache/2.4.10 (Ubuntu)', 'mw2224.codfw.wmnet',\n",
              "       'mw2171.codfw.wmnet', 'mw2257.codfw.wmnet', 'mw2226.codfw.wmnet',\n",
              "       'DMS/1.0.42', 'nginx/1.6.3', 'Application-Server',\n",
              "       'Apache/2.4.6 (CentOS) mod_fcgid/2.3.9 PHP/5.6.30',\n",
              "       'mw2177.codfw.wmnet', 'lighttpd/1.4.28', 'mw2197.codfw.wmnet',\n",
              "       'Apache/2.2.31 (FreeBSD) PHP/5.4.15 mod_ssl/2.2.31 OpenSSL/1.0.2d DAV/2',\n",
              "       'Apache/2.2.26 (Unix) mod_ssl/2.2.26 OpenSSL/1.0.1e-fips DAV/2 mod_bwlimited/1.4',\n",
              "       'Apache/2.2.24 (Unix) DAV/2 PHP/5.3.26 mod_ssl/2.2.24 OpenSSL/0.9.8y',\n",
              "       'mw2178.codfw.wmnet', '294', 'Microsoft-IIS/6.0', 'nginx/1.7.4',\n",
              "       'Apache/2.2.22 (Debian) mod_python/3.3.1 Python/2.7.3 mod_ssl/2.2.22 OpenSSL/1.0.1t',\n",
              "       'Apache/2.4.16 (Ubuntu)', 'www.lexisnexis.com  9999',\n",
              "       'nginx/0.8.38', 'mw2238.codfw.wmnet', 'Pizza/pepperoni',\n",
              "       'XXXXXXXXXXXXXXXXXXXXXX', 'MI', 'Roxen/5.4.98-r2',\n",
              "       'Apache/2.2.31 (Unix) mod_ssl/2.2.31 OpenSSL/1.0.1e-fips mod_bwlimited/1.4',\n",
              "       'nginx/1.9.13', 'mw2180.codfw.wmnet', 'Apache/2.2.14 (Ubuntu)',\n",
              "       'ebay server', 'nginx/0.8.55', 'Apache/2.2.10 (Linux/SUSE)',\n",
              "       'nginx/1.7.12',\n",
              "       'Apache/2.0.63 (Unix) mod_ssl/2.0.63 OpenSSL/0.9.8e-fips-rhel5 mod_auth_passthrough/2.1 mod_bwlimited/1.4 PHP/5.3.6',\n",
              "       'Boston.com Frontend', 'My Arse', 'IdeaWebServer/v0.80',\n",
              "       'Apache/2.4.17 (Unix) OpenSSL/1.0.1e-fips PHP/5.6.19',\n",
              "       'Microsoft-IIS/7.5; litigation_essentials.lexisnexis.com  9999',\n",
              "       'Apache/2.2.16 (Debian)'], dtype=object)"
            ]
          },
          "metadata": {},
          "execution_count": 58
        }
      ],
      "source": [
        "# Your code here\n",
        "server_unique_values = websites_cleaned['SERVER'].unique()\n",
        "server_unique_values"
      ]
    },
    {
      "cell_type": "markdown",
      "metadata": {
        "id": "ugPS-MUhtNEa"
      },
      "source": [
        "![Think Hard](../images/think-hard.jpg)"
      ]
    },
    {
      "cell_type": "code",
      "execution_count": null,
      "metadata": {
        "id": "iTTyvCigtNEf"
      },
      "outputs": [],
      "source": [
        "# Your comment here\n"
      ]
    },
    {
      "cell_type": "markdown",
      "metadata": {
        "id": "0GlhKYWjtNEf"
      },
      "source": [
        "Although there are so many unique values in the `SERVER` column, there are actually only 3 main server types: `Microsoft`, `Apache`, and `nginx`. Just check if each `SERVER` value contains any of those server types and re-label them. For `SERVER` values that don't contain any of those substrings, label with `Other`.\n",
        "\n",
        "At the end, your `SERVER` column should only contain 4 unique values: `Microsoft`, `Apache`, `nginx`, and `Other`."
      ]
    },
    {
      "cell_type": "code",
      "execution_count": 59,
      "metadata": {
        "id": "URdkz58otNEf"
      },
      "outputs": [],
      "source": [
        "# Your code here\n",
        "# I will try it out with a function yo update server names based on sub-strings\n",
        "def update_server(server_name):\n",
        "    if 'Microsoft' in server_name:\n",
        "        return 'Microsoft'\n",
        "    elif 'Apache' in server_name:\n",
        "        return 'Apache'\n",
        "    elif 'nginx' in server_name:\n",
        "        return 'nginx'\n",
        "    else:\n",
        "        return 'Other'"
      ]
    },
    {
      "cell_type": "code",
      "source": [
        "#function to update server names\n",
        "websites_cleaned['SERVER'] = websites_cleaned['SERVER'].apply(lambda x: update_server(str(x)))"
      ],
      "metadata": {
        "id": "YWZibjqM8mvh"
      },
      "execution_count": 60,
      "outputs": []
    },
    {
      "cell_type": "code",
      "source": [
        "# Displaying unique values in the 'SERVER' column after re-labeling\n",
        "unique_servers = websites_cleaned['SERVER'].unique()\n",
        "unique_servers"
      ],
      "metadata": {
        "colab": {
          "base_uri": "https://localhost:8080/"
        },
        "id": "gwBC12Mv8t1M",
        "outputId": "be80f71c-0b68-4e50-896b-b6aef1c9b839"
      },
      "execution_count": 61,
      "outputs": [
        {
          "output_type": "execute_result",
          "data": {
            "text/plain": [
              "array(['nginx', 'Apache', 'Microsoft', 'Other'], dtype=object)"
            ]
          },
          "metadata": {},
          "execution_count": 61
        }
      ]
    },
    {
      "cell_type": "code",
      "execution_count": 62,
      "metadata": {
        "scrolled": false,
        "id": "8p6fVmymtNEf",
        "colab": {
          "base_uri": "https://localhost:8080/"
        },
        "outputId": "5e8adbad-5827-404a-df99-3007af1dbb8d"
      },
      "outputs": [
        {
          "output_type": "execute_result",
          "data": {
            "text/plain": [
              "Apache       642\n",
              "Other        504\n",
              "nginx        435\n",
              "Microsoft    198\n",
              "Name: SERVER, dtype: int64"
            ]
          },
          "metadata": {},
          "execution_count": 62
        }
      ],
      "source": [
        "# Count `SERVER` value counts here\n",
        "server_counts = websites_cleaned['SERVER'].value_counts()\n",
        "server_counts"
      ]
    },
    {
      "cell_type": "markdown",
      "metadata": {
        "id": "aKhORQ1RtNEf"
      },
      "source": [
        "OK, all our categorical data are fixed now. **Let's convert them to ordinal data using Pandas' `get_dummies` function ([documentation](https://pandas.pydata.org/pandas-docs/stable/generated/pandas.get_dummies.html)). Also, assign the data with dummy values to a new variable `website_dummy`.**"
      ]
    },
    {
      "cell_type": "code",
      "execution_count": 63,
      "metadata": {
        "id": "UjbrghtGtNEf",
        "colab": {
          "base_uri": "https://localhost:8080/",
          "height": 444
        },
        "outputId": "6c210f14-25e7-4919-fdf3-07520776b1ba"
      },
      "outputs": [
        {
          "output_type": "execute_result",
          "data": {
            "text/plain": [
              "      URL_LENGTH  NUMBER_SPECIAL_CHARACTERS  TCP_CONVERSATION_EXCHANGE  \\\n",
              "0             16                          7                          7   \n",
              "1             16                          6                         17   \n",
              "2             16                          6                          0   \n",
              "3             17                          6                         31   \n",
              "4             17                          6                         57   \n",
              "...          ...                        ...                        ...   \n",
              "1776         194                         16                          0   \n",
              "1777         198                         17                          0   \n",
              "1778         201                         34                         83   \n",
              "1779         234                         34                          0   \n",
              "1780         249                         40                         19   \n",
              "\n",
              "      DIST_REMOTE_TCP_PORT  REMOTE_IPS  APP_BYTES  SOURCE_APP_PACKETS  \\\n",
              "0                        0           2        700                   9   \n",
              "1                        7           4       1230                  17   \n",
              "2                        0           0          0                   0   \n",
              "3                       22           3       3812                  39   \n",
              "4                        2           5       4278                  61   \n",
              "...                    ...         ...        ...                 ...   \n",
              "1776                     0           0          0                   0   \n",
              "1777                     0           0          0                   0   \n",
              "1778                     2           6       6631                  87   \n",
              "1779                     0           0          0                   0   \n",
              "1780                     6          11       2314                  25   \n",
              "\n",
              "      REMOTE_APP_PACKETS  SOURCE_APP_BYTES  REMOTE_APP_BYTES  ...  \\\n",
              "0                     10              1153               832  ...   \n",
              "1                     19              1265              1230  ...   \n",
              "2                      0                 0                 0  ...   \n",
              "3                     37             18784              4380  ...   \n",
              "4                     62            129889              4586  ...   \n",
              "...                  ...               ...               ...  ...   \n",
              "1776                   3               186                 0  ...   \n",
              "1777                   2               124                 0  ...   \n",
              "1778                  89            132181              6945  ...   \n",
              "1779                   0                 0                 0  ...   \n",
              "1780                  28              3039              2776  ...   \n",
              "\n",
              "      WHOIS_COUNTRY_CA  WHOIS_COUNTRY_ES  WHOIS_COUNTRY_GB  WHOIS_COUNTRY_IN  \\\n",
              "0                    0                 0                 0                 0   \n",
              "1                    0                 0                 0                 0   \n",
              "2                    0                 0                 0                 0   \n",
              "3                    0                 0                 0                 0   \n",
              "4                    0                 0                 0                 0   \n",
              "...                ...               ...               ...               ...   \n",
              "1776                 0                 1                 0                 0   \n",
              "1777                 0                 1                 0                 0   \n",
              "1778                 0                 0                 0                 0   \n",
              "1779                 0                 0                 0                 0   \n",
              "1780                 0                 0                 0                 0   \n",
              "\n",
              "      WHOIS_COUNTRY_JP  WHOIS_COUNTRY_None  WHOIS_COUNTRY_OTHER  \\\n",
              "0                    0                   1                    0   \n",
              "1                    0                   1                    0   \n",
              "2                    0                   1                    0   \n",
              "3                    0                   0                    0   \n",
              "4                    0                   0                    0   \n",
              "...                ...                 ...                  ...   \n",
              "1776                 0                   0                    0   \n",
              "1777                 0                   0                    0   \n",
              "1778                 0                   0                    0   \n",
              "1779                 0                   0                    0   \n",
              "1780                 0                   0                    0   \n",
              "\n",
              "      WHOIS_COUNTRY_PA  WHOIS_COUNTRY_UK  WHOIS_COUNTRY_US  \n",
              "0                    0                 0                 0  \n",
              "1                    0                 0                 0  \n",
              "2                    0                 0                 0  \n",
              "3                    0                 0                 1  \n",
              "4                    0                 0                 1  \n",
              "...                ...               ...               ...  \n",
              "1776                 0                 0                 0  \n",
              "1777                 0                 0                 0  \n",
              "1778                 0                 0                 1  \n",
              "1779                 0                 0                 1  \n",
              "1780                 0                 0                 1  \n",
              "\n",
              "[1779 rows x 37 columns]"
            ],
            "text/html": [
              "\n",
              "  <div id=\"df-4d8f36be-71a7-4255-8796-780fa57f524e\" class=\"colab-df-container\">\n",
              "    <div>\n",
              "<style scoped>\n",
              "    .dataframe tbody tr th:only-of-type {\n",
              "        vertical-align: middle;\n",
              "    }\n",
              "\n",
              "    .dataframe tbody tr th {\n",
              "        vertical-align: top;\n",
              "    }\n",
              "\n",
              "    .dataframe thead th {\n",
              "        text-align: right;\n",
              "    }\n",
              "</style>\n",
              "<table border=\"1\" class=\"dataframe\">\n",
              "  <thead>\n",
              "    <tr style=\"text-align: right;\">\n",
              "      <th></th>\n",
              "      <th>URL_LENGTH</th>\n",
              "      <th>NUMBER_SPECIAL_CHARACTERS</th>\n",
              "      <th>TCP_CONVERSATION_EXCHANGE</th>\n",
              "      <th>DIST_REMOTE_TCP_PORT</th>\n",
              "      <th>REMOTE_IPS</th>\n",
              "      <th>APP_BYTES</th>\n",
              "      <th>SOURCE_APP_PACKETS</th>\n",
              "      <th>REMOTE_APP_PACKETS</th>\n",
              "      <th>SOURCE_APP_BYTES</th>\n",
              "      <th>REMOTE_APP_BYTES</th>\n",
              "      <th>...</th>\n",
              "      <th>WHOIS_COUNTRY_CA</th>\n",
              "      <th>WHOIS_COUNTRY_ES</th>\n",
              "      <th>WHOIS_COUNTRY_GB</th>\n",
              "      <th>WHOIS_COUNTRY_IN</th>\n",
              "      <th>WHOIS_COUNTRY_JP</th>\n",
              "      <th>WHOIS_COUNTRY_None</th>\n",
              "      <th>WHOIS_COUNTRY_OTHER</th>\n",
              "      <th>WHOIS_COUNTRY_PA</th>\n",
              "      <th>WHOIS_COUNTRY_UK</th>\n",
              "      <th>WHOIS_COUNTRY_US</th>\n",
              "    </tr>\n",
              "  </thead>\n",
              "  <tbody>\n",
              "    <tr>\n",
              "      <th>0</th>\n",
              "      <td>16</td>\n",
              "      <td>7</td>\n",
              "      <td>7</td>\n",
              "      <td>0</td>\n",
              "      <td>2</td>\n",
              "      <td>700</td>\n",
              "      <td>9</td>\n",
              "      <td>10</td>\n",
              "      <td>1153</td>\n",
              "      <td>832</td>\n",
              "      <td>...</td>\n",
              "      <td>0</td>\n",
              "      <td>0</td>\n",
              "      <td>0</td>\n",
              "      <td>0</td>\n",
              "      <td>0</td>\n",
              "      <td>1</td>\n",
              "      <td>0</td>\n",
              "      <td>0</td>\n",
              "      <td>0</td>\n",
              "      <td>0</td>\n",
              "    </tr>\n",
              "    <tr>\n",
              "      <th>1</th>\n",
              "      <td>16</td>\n",
              "      <td>6</td>\n",
              "      <td>17</td>\n",
              "      <td>7</td>\n",
              "      <td>4</td>\n",
              "      <td>1230</td>\n",
              "      <td>17</td>\n",
              "      <td>19</td>\n",
              "      <td>1265</td>\n",
              "      <td>1230</td>\n",
              "      <td>...</td>\n",
              "      <td>0</td>\n",
              "      <td>0</td>\n",
              "      <td>0</td>\n",
              "      <td>0</td>\n",
              "      <td>0</td>\n",
              "      <td>1</td>\n",
              "      <td>0</td>\n",
              "      <td>0</td>\n",
              "      <td>0</td>\n",
              "      <td>0</td>\n",
              "    </tr>\n",
              "    <tr>\n",
              "      <th>2</th>\n",
              "      <td>16</td>\n",
              "      <td>6</td>\n",
              "      <td>0</td>\n",
              "      <td>0</td>\n",
              "      <td>0</td>\n",
              "      <td>0</td>\n",
              "      <td>0</td>\n",
              "      <td>0</td>\n",
              "      <td>0</td>\n",
              "      <td>0</td>\n",
              "      <td>...</td>\n",
              "      <td>0</td>\n",
              "      <td>0</td>\n",
              "      <td>0</td>\n",
              "      <td>0</td>\n",
              "      <td>0</td>\n",
              "      <td>1</td>\n",
              "      <td>0</td>\n",
              "      <td>0</td>\n",
              "      <td>0</td>\n",
              "      <td>0</td>\n",
              "    </tr>\n",
              "    <tr>\n",
              "      <th>3</th>\n",
              "      <td>17</td>\n",
              "      <td>6</td>\n",
              "      <td>31</td>\n",
              "      <td>22</td>\n",
              "      <td>3</td>\n",
              "      <td>3812</td>\n",
              "      <td>39</td>\n",
              "      <td>37</td>\n",
              "      <td>18784</td>\n",
              "      <td>4380</td>\n",
              "      <td>...</td>\n",
              "      <td>0</td>\n",
              "      <td>0</td>\n",
              "      <td>0</td>\n",
              "      <td>0</td>\n",
              "      <td>0</td>\n",
              "      <td>0</td>\n",
              "      <td>0</td>\n",
              "      <td>0</td>\n",
              "      <td>0</td>\n",
              "      <td>1</td>\n",
              "    </tr>\n",
              "    <tr>\n",
              "      <th>4</th>\n",
              "      <td>17</td>\n",
              "      <td>6</td>\n",
              "      <td>57</td>\n",
              "      <td>2</td>\n",
              "      <td>5</td>\n",
              "      <td>4278</td>\n",
              "      <td>61</td>\n",
              "      <td>62</td>\n",
              "      <td>129889</td>\n",
              "      <td>4586</td>\n",
              "      <td>...</td>\n",
              "      <td>0</td>\n",
              "      <td>0</td>\n",
              "      <td>0</td>\n",
              "      <td>0</td>\n",
              "      <td>0</td>\n",
              "      <td>0</td>\n",
              "      <td>0</td>\n",
              "      <td>0</td>\n",
              "      <td>0</td>\n",
              "      <td>1</td>\n",
              "    </tr>\n",
              "    <tr>\n",
              "      <th>...</th>\n",
              "      <td>...</td>\n",
              "      <td>...</td>\n",
              "      <td>...</td>\n",
              "      <td>...</td>\n",
              "      <td>...</td>\n",
              "      <td>...</td>\n",
              "      <td>...</td>\n",
              "      <td>...</td>\n",
              "      <td>...</td>\n",
              "      <td>...</td>\n",
              "      <td>...</td>\n",
              "      <td>...</td>\n",
              "      <td>...</td>\n",
              "      <td>...</td>\n",
              "      <td>...</td>\n",
              "      <td>...</td>\n",
              "      <td>...</td>\n",
              "      <td>...</td>\n",
              "      <td>...</td>\n",
              "      <td>...</td>\n",
              "      <td>...</td>\n",
              "    </tr>\n",
              "    <tr>\n",
              "      <th>1776</th>\n",
              "      <td>194</td>\n",
              "      <td>16</td>\n",
              "      <td>0</td>\n",
              "      <td>0</td>\n",
              "      <td>0</td>\n",
              "      <td>0</td>\n",
              "      <td>0</td>\n",
              "      <td>3</td>\n",
              "      <td>186</td>\n",
              "      <td>0</td>\n",
              "      <td>...</td>\n",
              "      <td>0</td>\n",
              "      <td>1</td>\n",
              "      <td>0</td>\n",
              "      <td>0</td>\n",
              "      <td>0</td>\n",
              "      <td>0</td>\n",
              "      <td>0</td>\n",
              "      <td>0</td>\n",
              "      <td>0</td>\n",
              "      <td>0</td>\n",
              "    </tr>\n",
              "    <tr>\n",
              "      <th>1777</th>\n",
              "      <td>198</td>\n",
              "      <td>17</td>\n",
              "      <td>0</td>\n",
              "      <td>0</td>\n",
              "      <td>0</td>\n",
              "      <td>0</td>\n",
              "      <td>0</td>\n",
              "      <td>2</td>\n",
              "      <td>124</td>\n",
              "      <td>0</td>\n",
              "      <td>...</td>\n",
              "      <td>0</td>\n",
              "      <td>1</td>\n",
              "      <td>0</td>\n",
              "      <td>0</td>\n",
              "      <td>0</td>\n",
              "      <td>0</td>\n",
              "      <td>0</td>\n",
              "      <td>0</td>\n",
              "      <td>0</td>\n",
              "      <td>0</td>\n",
              "    </tr>\n",
              "    <tr>\n",
              "      <th>1778</th>\n",
              "      <td>201</td>\n",
              "      <td>34</td>\n",
              "      <td>83</td>\n",
              "      <td>2</td>\n",
              "      <td>6</td>\n",
              "      <td>6631</td>\n",
              "      <td>87</td>\n",
              "      <td>89</td>\n",
              "      <td>132181</td>\n",
              "      <td>6945</td>\n",
              "      <td>...</td>\n",
              "      <td>0</td>\n",
              "      <td>0</td>\n",
              "      <td>0</td>\n",
              "      <td>0</td>\n",
              "      <td>0</td>\n",
              "      <td>0</td>\n",
              "      <td>0</td>\n",
              "      <td>0</td>\n",
              "      <td>0</td>\n",
              "      <td>1</td>\n",
              "    </tr>\n",
              "    <tr>\n",
              "      <th>1779</th>\n",
              "      <td>234</td>\n",
              "      <td>34</td>\n",
              "      <td>0</td>\n",
              "      <td>0</td>\n",
              "      <td>0</td>\n",
              "      <td>0</td>\n",
              "      <td>0</td>\n",
              "      <td>0</td>\n",
              "      <td>0</td>\n",
              "      <td>0</td>\n",
              "      <td>...</td>\n",
              "      <td>0</td>\n",
              "      <td>0</td>\n",
              "      <td>0</td>\n",
              "      <td>0</td>\n",
              "      <td>0</td>\n",
              "      <td>0</td>\n",
              "      <td>0</td>\n",
              "      <td>0</td>\n",
              "      <td>0</td>\n",
              "      <td>1</td>\n",
              "    </tr>\n",
              "    <tr>\n",
              "      <th>1780</th>\n",
              "      <td>249</td>\n",
              "      <td>40</td>\n",
              "      <td>19</td>\n",
              "      <td>6</td>\n",
              "      <td>11</td>\n",
              "      <td>2314</td>\n",
              "      <td>25</td>\n",
              "      <td>28</td>\n",
              "      <td>3039</td>\n",
              "      <td>2776</td>\n",
              "      <td>...</td>\n",
              "      <td>0</td>\n",
              "      <td>0</td>\n",
              "      <td>0</td>\n",
              "      <td>0</td>\n",
              "      <td>0</td>\n",
              "      <td>0</td>\n",
              "      <td>0</td>\n",
              "      <td>0</td>\n",
              "      <td>0</td>\n",
              "      <td>1</td>\n",
              "    </tr>\n",
              "  </tbody>\n",
              "</table>\n",
              "<p>1779 rows × 37 columns</p>\n",
              "</div>\n",
              "    <div class=\"colab-df-buttons\">\n",
              "\n",
              "  <div class=\"colab-df-container\">\n",
              "    <button class=\"colab-df-convert\" onclick=\"convertToInteractive('df-4d8f36be-71a7-4255-8796-780fa57f524e')\"\n",
              "            title=\"Convert this dataframe to an interactive table.\"\n",
              "            style=\"display:none;\">\n",
              "\n",
              "  <svg xmlns=\"http://www.w3.org/2000/svg\" height=\"24px\" viewBox=\"0 -960 960 960\">\n",
              "    <path d=\"M120-120v-720h720v720H120Zm60-500h600v-160H180v160Zm220 220h160v-160H400v160Zm0 220h160v-160H400v160ZM180-400h160v-160H180v160Zm440 0h160v-160H620v160ZM180-180h160v-160H180v160Zm440 0h160v-160H620v160Z\"/>\n",
              "  </svg>\n",
              "    </button>\n",
              "\n",
              "  <style>\n",
              "    .colab-df-container {\n",
              "      display:flex;\n",
              "      gap: 12px;\n",
              "    }\n",
              "\n",
              "    .colab-df-convert {\n",
              "      background-color: #E8F0FE;\n",
              "      border: none;\n",
              "      border-radius: 50%;\n",
              "      cursor: pointer;\n",
              "      display: none;\n",
              "      fill: #1967D2;\n",
              "      height: 32px;\n",
              "      padding: 0 0 0 0;\n",
              "      width: 32px;\n",
              "    }\n",
              "\n",
              "    .colab-df-convert:hover {\n",
              "      background-color: #E2EBFA;\n",
              "      box-shadow: 0px 1px 2px rgba(60, 64, 67, 0.3), 0px 1px 3px 1px rgba(60, 64, 67, 0.15);\n",
              "      fill: #174EA6;\n",
              "    }\n",
              "\n",
              "    .colab-df-buttons div {\n",
              "      margin-bottom: 4px;\n",
              "    }\n",
              "\n",
              "    [theme=dark] .colab-df-convert {\n",
              "      background-color: #3B4455;\n",
              "      fill: #D2E3FC;\n",
              "    }\n",
              "\n",
              "    [theme=dark] .colab-df-convert:hover {\n",
              "      background-color: #434B5C;\n",
              "      box-shadow: 0px 1px 3px 1px rgba(0, 0, 0, 0.15);\n",
              "      filter: drop-shadow(0px 1px 2px rgba(0, 0, 0, 0.3));\n",
              "      fill: #FFFFFF;\n",
              "    }\n",
              "  </style>\n",
              "\n",
              "    <script>\n",
              "      const buttonEl =\n",
              "        document.querySelector('#df-4d8f36be-71a7-4255-8796-780fa57f524e button.colab-df-convert');\n",
              "      buttonEl.style.display =\n",
              "        google.colab.kernel.accessAllowed ? 'block' : 'none';\n",
              "\n",
              "      async function convertToInteractive(key) {\n",
              "        const element = document.querySelector('#df-4d8f36be-71a7-4255-8796-780fa57f524e');\n",
              "        const dataTable =\n",
              "          await google.colab.kernel.invokeFunction('convertToInteractive',\n",
              "                                                    [key], {});\n",
              "        if (!dataTable) return;\n",
              "\n",
              "        const docLinkHtml = 'Like what you see? Visit the ' +\n",
              "          '<a target=\"_blank\" href=https://colab.research.google.com/notebooks/data_table.ipynb>data table notebook</a>'\n",
              "          + ' to learn more about interactive tables.';\n",
              "        element.innerHTML = '';\n",
              "        dataTable['output_type'] = 'display_data';\n",
              "        await google.colab.output.renderOutput(dataTable, element);\n",
              "        const docLink = document.createElement('div');\n",
              "        docLink.innerHTML = docLinkHtml;\n",
              "        element.appendChild(docLink);\n",
              "      }\n",
              "    </script>\n",
              "  </div>\n",
              "\n",
              "\n",
              "<div id=\"df-d9c60a76-e15b-44cb-8cc6-fb952d7cd088\">\n",
              "  <button class=\"colab-df-quickchart\" onclick=\"quickchart('df-d9c60a76-e15b-44cb-8cc6-fb952d7cd088')\"\n",
              "            title=\"Suggest charts\"\n",
              "            style=\"display:none;\">\n",
              "\n",
              "<svg xmlns=\"http://www.w3.org/2000/svg\" height=\"24px\"viewBox=\"0 0 24 24\"\n",
              "     width=\"24px\">\n",
              "    <g>\n",
              "        <path d=\"M19 3H5c-1.1 0-2 .9-2 2v14c0 1.1.9 2 2 2h14c1.1 0 2-.9 2-2V5c0-1.1-.9-2-2-2zM9 17H7v-7h2v7zm4 0h-2V7h2v10zm4 0h-2v-4h2v4z\"/>\n",
              "    </g>\n",
              "</svg>\n",
              "  </button>\n",
              "\n",
              "<style>\n",
              "  .colab-df-quickchart {\n",
              "      --bg-color: #E8F0FE;\n",
              "      --fill-color: #1967D2;\n",
              "      --hover-bg-color: #E2EBFA;\n",
              "      --hover-fill-color: #174EA6;\n",
              "      --disabled-fill-color: #AAA;\n",
              "      --disabled-bg-color: #DDD;\n",
              "  }\n",
              "\n",
              "  [theme=dark] .colab-df-quickchart {\n",
              "      --bg-color: #3B4455;\n",
              "      --fill-color: #D2E3FC;\n",
              "      --hover-bg-color: #434B5C;\n",
              "      --hover-fill-color: #FFFFFF;\n",
              "      --disabled-bg-color: #3B4455;\n",
              "      --disabled-fill-color: #666;\n",
              "  }\n",
              "\n",
              "  .colab-df-quickchart {\n",
              "    background-color: var(--bg-color);\n",
              "    border: none;\n",
              "    border-radius: 50%;\n",
              "    cursor: pointer;\n",
              "    display: none;\n",
              "    fill: var(--fill-color);\n",
              "    height: 32px;\n",
              "    padding: 0;\n",
              "    width: 32px;\n",
              "  }\n",
              "\n",
              "  .colab-df-quickchart:hover {\n",
              "    background-color: var(--hover-bg-color);\n",
              "    box-shadow: 0 1px 2px rgba(60, 64, 67, 0.3), 0 1px 3px 1px rgba(60, 64, 67, 0.15);\n",
              "    fill: var(--button-hover-fill-color);\n",
              "  }\n",
              "\n",
              "  .colab-df-quickchart-complete:disabled,\n",
              "  .colab-df-quickchart-complete:disabled:hover {\n",
              "    background-color: var(--disabled-bg-color);\n",
              "    fill: var(--disabled-fill-color);\n",
              "    box-shadow: none;\n",
              "  }\n",
              "\n",
              "  .colab-df-spinner {\n",
              "    border: 2px solid var(--fill-color);\n",
              "    border-color: transparent;\n",
              "    border-bottom-color: var(--fill-color);\n",
              "    animation:\n",
              "      spin 1s steps(1) infinite;\n",
              "  }\n",
              "\n",
              "  @keyframes spin {\n",
              "    0% {\n",
              "      border-color: transparent;\n",
              "      border-bottom-color: var(--fill-color);\n",
              "      border-left-color: var(--fill-color);\n",
              "    }\n",
              "    20% {\n",
              "      border-color: transparent;\n",
              "      border-left-color: var(--fill-color);\n",
              "      border-top-color: var(--fill-color);\n",
              "    }\n",
              "    30% {\n",
              "      border-color: transparent;\n",
              "      border-left-color: var(--fill-color);\n",
              "      border-top-color: var(--fill-color);\n",
              "      border-right-color: var(--fill-color);\n",
              "    }\n",
              "    40% {\n",
              "      border-color: transparent;\n",
              "      border-right-color: var(--fill-color);\n",
              "      border-top-color: var(--fill-color);\n",
              "    }\n",
              "    60% {\n",
              "      border-color: transparent;\n",
              "      border-right-color: var(--fill-color);\n",
              "    }\n",
              "    80% {\n",
              "      border-color: transparent;\n",
              "      border-right-color: var(--fill-color);\n",
              "      border-bottom-color: var(--fill-color);\n",
              "    }\n",
              "    90% {\n",
              "      border-color: transparent;\n",
              "      border-bottom-color: var(--fill-color);\n",
              "    }\n",
              "  }\n",
              "</style>\n",
              "\n",
              "  <script>\n",
              "    async function quickchart(key) {\n",
              "      const quickchartButtonEl =\n",
              "        document.querySelector('#' + key + ' button');\n",
              "      quickchartButtonEl.disabled = true;  // To prevent multiple clicks.\n",
              "      quickchartButtonEl.classList.add('colab-df-spinner');\n",
              "      try {\n",
              "        const charts = await google.colab.kernel.invokeFunction(\n",
              "            'suggestCharts', [key], {});\n",
              "      } catch (error) {\n",
              "        console.error('Error during call to suggestCharts:', error);\n",
              "      }\n",
              "      quickchartButtonEl.classList.remove('colab-df-spinner');\n",
              "      quickchartButtonEl.classList.add('colab-df-quickchart-complete');\n",
              "    }\n",
              "    (() => {\n",
              "      let quickchartButtonEl =\n",
              "        document.querySelector('#df-d9c60a76-e15b-44cb-8cc6-fb952d7cd088 button');\n",
              "      quickchartButtonEl.style.display =\n",
              "        google.colab.kernel.accessAllowed ? 'block' : 'none';\n",
              "    })();\n",
              "  </script>\n",
              "</div>\n",
              "    </div>\n",
              "  </div>\n"
            ]
          },
          "metadata": {},
          "execution_count": 63
        }
      ],
      "source": [
        "# Your code here\n",
        "website_dummy = pd.get_dummies(websites_cleaned, columns=['CHARSET', 'SERVER', 'WHOIS_COUNTRY'])\n",
        "website_dummy"
      ]
    },
    {
      "cell_type": "markdown",
      "metadata": {
        "id": "sW9SxmzStNEg"
      },
      "source": [
        "Now, inspect `website_dummy` to make sure the data and types are intended - there shouldn't be any categorical columns at this point."
      ]
    },
    {
      "cell_type": "code",
      "execution_count": 64,
      "metadata": {
        "id": "3N_uszT0tNEg",
        "colab": {
          "base_uri": "https://localhost:8080/"
        },
        "outputId": "fc06a2ef-ca6b-47d4-8c5e-463ecbb87d9e"
      },
      "outputs": [
        {
          "output_type": "stream",
          "name": "stdout",
          "text": [
            "<class 'pandas.core.frame.DataFrame'>\n",
            "Int64Index: 1779 entries, 0 to 1780\n",
            "Data columns (total 37 columns):\n",
            " #   Column                     Non-Null Count  Dtype  \n",
            "---  ------                     --------------  -----  \n",
            " 0   URL_LENGTH                 1779 non-null   int64  \n",
            " 1   NUMBER_SPECIAL_CHARACTERS  1779 non-null   int64  \n",
            " 2   TCP_CONVERSATION_EXCHANGE  1779 non-null   int64  \n",
            " 3   DIST_REMOTE_TCP_PORT       1779 non-null   int64  \n",
            " 4   REMOTE_IPS                 1779 non-null   int64  \n",
            " 5   APP_BYTES                  1779 non-null   int64  \n",
            " 6   SOURCE_APP_PACKETS         1779 non-null   int64  \n",
            " 7   REMOTE_APP_PACKETS         1779 non-null   int64  \n",
            " 8   SOURCE_APP_BYTES           1779 non-null   int64  \n",
            " 9   REMOTE_APP_BYTES           1779 non-null   int64  \n",
            " 10  APP_PACKETS                1779 non-null   int64  \n",
            " 11  DNS_QUERY_TIMES            1779 non-null   float64\n",
            " 12  Type                       1779 non-null   int64  \n",
            " 13  CHARSET_ISO-8859           1779 non-null   uint8  \n",
            " 14  CHARSET_ISO-8859-1         1779 non-null   uint8  \n",
            " 15  CHARSET_None               1779 non-null   uint8  \n",
            " 16  CHARSET_UTF-8              1779 non-null   uint8  \n",
            " 17  CHARSET_iso-8859-1         1779 non-null   uint8  \n",
            " 18  CHARSET_us-ascii           1779 non-null   uint8  \n",
            " 19  CHARSET_utf-8              1779 non-null   uint8  \n",
            " 20  CHARSET_windows-1251       1779 non-null   uint8  \n",
            " 21  CHARSET_windows-1252       1779 non-null   uint8  \n",
            " 22  SERVER_Apache              1779 non-null   uint8  \n",
            " 23  SERVER_Microsoft           1779 non-null   uint8  \n",
            " 24  SERVER_Other               1779 non-null   uint8  \n",
            " 25  SERVER_nginx               1779 non-null   uint8  \n",
            " 26  WHOIS_COUNTRY_AU           1779 non-null   uint8  \n",
            " 27  WHOIS_COUNTRY_CA           1779 non-null   uint8  \n",
            " 28  WHOIS_COUNTRY_ES           1779 non-null   uint8  \n",
            " 29  WHOIS_COUNTRY_GB           1779 non-null   uint8  \n",
            " 30  WHOIS_COUNTRY_IN           1779 non-null   uint8  \n",
            " 31  WHOIS_COUNTRY_JP           1779 non-null   uint8  \n",
            " 32  WHOIS_COUNTRY_None         1779 non-null   uint8  \n",
            " 33  WHOIS_COUNTRY_OTHER        1779 non-null   uint8  \n",
            " 34  WHOIS_COUNTRY_PA           1779 non-null   uint8  \n",
            " 35  WHOIS_COUNTRY_UK           1779 non-null   uint8  \n",
            " 36  WHOIS_COUNTRY_US           1779 non-null   uint8  \n",
            "dtypes: float64(1), int64(12), uint8(24)\n",
            "memory usage: 236.3 KB\n"
          ]
        }
      ],
      "source": [
        "# Your code here\n",
        "website_dummy.info()"
      ]
    },
    {
      "cell_type": "code",
      "source": [
        "website_dummy.head()"
      ],
      "metadata": {
        "colab": {
          "base_uri": "https://localhost:8080/",
          "height": 256
        },
        "id": "lthSMVjc87_U",
        "outputId": "c3798689-01a6-4bae-ebb9-744e61db374e"
      },
      "execution_count": 65,
      "outputs": [
        {
          "output_type": "execute_result",
          "data": {
            "text/plain": [
              "   URL_LENGTH  NUMBER_SPECIAL_CHARACTERS  TCP_CONVERSATION_EXCHANGE  \\\n",
              "0          16                          7                          7   \n",
              "1          16                          6                         17   \n",
              "2          16                          6                          0   \n",
              "3          17                          6                         31   \n",
              "4          17                          6                         57   \n",
              "\n",
              "   DIST_REMOTE_TCP_PORT  REMOTE_IPS  APP_BYTES  SOURCE_APP_PACKETS  \\\n",
              "0                     0           2        700                   9   \n",
              "1                     7           4       1230                  17   \n",
              "2                     0           0          0                   0   \n",
              "3                    22           3       3812                  39   \n",
              "4                     2           5       4278                  61   \n",
              "\n",
              "   REMOTE_APP_PACKETS  SOURCE_APP_BYTES  REMOTE_APP_BYTES  ...  \\\n",
              "0                  10              1153               832  ...   \n",
              "1                  19              1265              1230  ...   \n",
              "2                   0                 0                 0  ...   \n",
              "3                  37             18784              4380  ...   \n",
              "4                  62            129889              4586  ...   \n",
              "\n",
              "   WHOIS_COUNTRY_CA  WHOIS_COUNTRY_ES  WHOIS_COUNTRY_GB  WHOIS_COUNTRY_IN  \\\n",
              "0                 0                 0                 0                 0   \n",
              "1                 0                 0                 0                 0   \n",
              "2                 0                 0                 0                 0   \n",
              "3                 0                 0                 0                 0   \n",
              "4                 0                 0                 0                 0   \n",
              "\n",
              "   WHOIS_COUNTRY_JP  WHOIS_COUNTRY_None  WHOIS_COUNTRY_OTHER  \\\n",
              "0                 0                   1                    0   \n",
              "1                 0                   1                    0   \n",
              "2                 0                   1                    0   \n",
              "3                 0                   0                    0   \n",
              "4                 0                   0                    0   \n",
              "\n",
              "   WHOIS_COUNTRY_PA  WHOIS_COUNTRY_UK  WHOIS_COUNTRY_US  \n",
              "0                 0                 0                 0  \n",
              "1                 0                 0                 0  \n",
              "2                 0                 0                 0  \n",
              "3                 0                 0                 1  \n",
              "4                 0                 0                 1  \n",
              "\n",
              "[5 rows x 37 columns]"
            ],
            "text/html": [
              "\n",
              "  <div id=\"df-2136381d-de39-4549-ae12-1afab8a523cf\" class=\"colab-df-container\">\n",
              "    <div>\n",
              "<style scoped>\n",
              "    .dataframe tbody tr th:only-of-type {\n",
              "        vertical-align: middle;\n",
              "    }\n",
              "\n",
              "    .dataframe tbody tr th {\n",
              "        vertical-align: top;\n",
              "    }\n",
              "\n",
              "    .dataframe thead th {\n",
              "        text-align: right;\n",
              "    }\n",
              "</style>\n",
              "<table border=\"1\" class=\"dataframe\">\n",
              "  <thead>\n",
              "    <tr style=\"text-align: right;\">\n",
              "      <th></th>\n",
              "      <th>URL_LENGTH</th>\n",
              "      <th>NUMBER_SPECIAL_CHARACTERS</th>\n",
              "      <th>TCP_CONVERSATION_EXCHANGE</th>\n",
              "      <th>DIST_REMOTE_TCP_PORT</th>\n",
              "      <th>REMOTE_IPS</th>\n",
              "      <th>APP_BYTES</th>\n",
              "      <th>SOURCE_APP_PACKETS</th>\n",
              "      <th>REMOTE_APP_PACKETS</th>\n",
              "      <th>SOURCE_APP_BYTES</th>\n",
              "      <th>REMOTE_APP_BYTES</th>\n",
              "      <th>...</th>\n",
              "      <th>WHOIS_COUNTRY_CA</th>\n",
              "      <th>WHOIS_COUNTRY_ES</th>\n",
              "      <th>WHOIS_COUNTRY_GB</th>\n",
              "      <th>WHOIS_COUNTRY_IN</th>\n",
              "      <th>WHOIS_COUNTRY_JP</th>\n",
              "      <th>WHOIS_COUNTRY_None</th>\n",
              "      <th>WHOIS_COUNTRY_OTHER</th>\n",
              "      <th>WHOIS_COUNTRY_PA</th>\n",
              "      <th>WHOIS_COUNTRY_UK</th>\n",
              "      <th>WHOIS_COUNTRY_US</th>\n",
              "    </tr>\n",
              "  </thead>\n",
              "  <tbody>\n",
              "    <tr>\n",
              "      <th>0</th>\n",
              "      <td>16</td>\n",
              "      <td>7</td>\n",
              "      <td>7</td>\n",
              "      <td>0</td>\n",
              "      <td>2</td>\n",
              "      <td>700</td>\n",
              "      <td>9</td>\n",
              "      <td>10</td>\n",
              "      <td>1153</td>\n",
              "      <td>832</td>\n",
              "      <td>...</td>\n",
              "      <td>0</td>\n",
              "      <td>0</td>\n",
              "      <td>0</td>\n",
              "      <td>0</td>\n",
              "      <td>0</td>\n",
              "      <td>1</td>\n",
              "      <td>0</td>\n",
              "      <td>0</td>\n",
              "      <td>0</td>\n",
              "      <td>0</td>\n",
              "    </tr>\n",
              "    <tr>\n",
              "      <th>1</th>\n",
              "      <td>16</td>\n",
              "      <td>6</td>\n",
              "      <td>17</td>\n",
              "      <td>7</td>\n",
              "      <td>4</td>\n",
              "      <td>1230</td>\n",
              "      <td>17</td>\n",
              "      <td>19</td>\n",
              "      <td>1265</td>\n",
              "      <td>1230</td>\n",
              "      <td>...</td>\n",
              "      <td>0</td>\n",
              "      <td>0</td>\n",
              "      <td>0</td>\n",
              "      <td>0</td>\n",
              "      <td>0</td>\n",
              "      <td>1</td>\n",
              "      <td>0</td>\n",
              "      <td>0</td>\n",
              "      <td>0</td>\n",
              "      <td>0</td>\n",
              "    </tr>\n",
              "    <tr>\n",
              "      <th>2</th>\n",
              "      <td>16</td>\n",
              "      <td>6</td>\n",
              "      <td>0</td>\n",
              "      <td>0</td>\n",
              "      <td>0</td>\n",
              "      <td>0</td>\n",
              "      <td>0</td>\n",
              "      <td>0</td>\n",
              "      <td>0</td>\n",
              "      <td>0</td>\n",
              "      <td>...</td>\n",
              "      <td>0</td>\n",
              "      <td>0</td>\n",
              "      <td>0</td>\n",
              "      <td>0</td>\n",
              "      <td>0</td>\n",
              "      <td>1</td>\n",
              "      <td>0</td>\n",
              "      <td>0</td>\n",
              "      <td>0</td>\n",
              "      <td>0</td>\n",
              "    </tr>\n",
              "    <tr>\n",
              "      <th>3</th>\n",
              "      <td>17</td>\n",
              "      <td>6</td>\n",
              "      <td>31</td>\n",
              "      <td>22</td>\n",
              "      <td>3</td>\n",
              "      <td>3812</td>\n",
              "      <td>39</td>\n",
              "      <td>37</td>\n",
              "      <td>18784</td>\n",
              "      <td>4380</td>\n",
              "      <td>...</td>\n",
              "      <td>0</td>\n",
              "      <td>0</td>\n",
              "      <td>0</td>\n",
              "      <td>0</td>\n",
              "      <td>0</td>\n",
              "      <td>0</td>\n",
              "      <td>0</td>\n",
              "      <td>0</td>\n",
              "      <td>0</td>\n",
              "      <td>1</td>\n",
              "    </tr>\n",
              "    <tr>\n",
              "      <th>4</th>\n",
              "      <td>17</td>\n",
              "      <td>6</td>\n",
              "      <td>57</td>\n",
              "      <td>2</td>\n",
              "      <td>5</td>\n",
              "      <td>4278</td>\n",
              "      <td>61</td>\n",
              "      <td>62</td>\n",
              "      <td>129889</td>\n",
              "      <td>4586</td>\n",
              "      <td>...</td>\n",
              "      <td>0</td>\n",
              "      <td>0</td>\n",
              "      <td>0</td>\n",
              "      <td>0</td>\n",
              "      <td>0</td>\n",
              "      <td>0</td>\n",
              "      <td>0</td>\n",
              "      <td>0</td>\n",
              "      <td>0</td>\n",
              "      <td>1</td>\n",
              "    </tr>\n",
              "  </tbody>\n",
              "</table>\n",
              "<p>5 rows × 37 columns</p>\n",
              "</div>\n",
              "    <div class=\"colab-df-buttons\">\n",
              "\n",
              "  <div class=\"colab-df-container\">\n",
              "    <button class=\"colab-df-convert\" onclick=\"convertToInteractive('df-2136381d-de39-4549-ae12-1afab8a523cf')\"\n",
              "            title=\"Convert this dataframe to an interactive table.\"\n",
              "            style=\"display:none;\">\n",
              "\n",
              "  <svg xmlns=\"http://www.w3.org/2000/svg\" height=\"24px\" viewBox=\"0 -960 960 960\">\n",
              "    <path d=\"M120-120v-720h720v720H120Zm60-500h600v-160H180v160Zm220 220h160v-160H400v160Zm0 220h160v-160H400v160ZM180-400h160v-160H180v160Zm440 0h160v-160H620v160ZM180-180h160v-160H180v160Zm440 0h160v-160H620v160Z\"/>\n",
              "  </svg>\n",
              "    </button>\n",
              "\n",
              "  <style>\n",
              "    .colab-df-container {\n",
              "      display:flex;\n",
              "      gap: 12px;\n",
              "    }\n",
              "\n",
              "    .colab-df-convert {\n",
              "      background-color: #E8F0FE;\n",
              "      border: none;\n",
              "      border-radius: 50%;\n",
              "      cursor: pointer;\n",
              "      display: none;\n",
              "      fill: #1967D2;\n",
              "      height: 32px;\n",
              "      padding: 0 0 0 0;\n",
              "      width: 32px;\n",
              "    }\n",
              "\n",
              "    .colab-df-convert:hover {\n",
              "      background-color: #E2EBFA;\n",
              "      box-shadow: 0px 1px 2px rgba(60, 64, 67, 0.3), 0px 1px 3px 1px rgba(60, 64, 67, 0.15);\n",
              "      fill: #174EA6;\n",
              "    }\n",
              "\n",
              "    .colab-df-buttons div {\n",
              "      margin-bottom: 4px;\n",
              "    }\n",
              "\n",
              "    [theme=dark] .colab-df-convert {\n",
              "      background-color: #3B4455;\n",
              "      fill: #D2E3FC;\n",
              "    }\n",
              "\n",
              "    [theme=dark] .colab-df-convert:hover {\n",
              "      background-color: #434B5C;\n",
              "      box-shadow: 0px 1px 3px 1px rgba(0, 0, 0, 0.15);\n",
              "      filter: drop-shadow(0px 1px 2px rgba(0, 0, 0, 0.3));\n",
              "      fill: #FFFFFF;\n",
              "    }\n",
              "  </style>\n",
              "\n",
              "    <script>\n",
              "      const buttonEl =\n",
              "        document.querySelector('#df-2136381d-de39-4549-ae12-1afab8a523cf button.colab-df-convert');\n",
              "      buttonEl.style.display =\n",
              "        google.colab.kernel.accessAllowed ? 'block' : 'none';\n",
              "\n",
              "      async function convertToInteractive(key) {\n",
              "        const element = document.querySelector('#df-2136381d-de39-4549-ae12-1afab8a523cf');\n",
              "        const dataTable =\n",
              "          await google.colab.kernel.invokeFunction('convertToInteractive',\n",
              "                                                    [key], {});\n",
              "        if (!dataTable) return;\n",
              "\n",
              "        const docLinkHtml = 'Like what you see? Visit the ' +\n",
              "          '<a target=\"_blank\" href=https://colab.research.google.com/notebooks/data_table.ipynb>data table notebook</a>'\n",
              "          + ' to learn more about interactive tables.';\n",
              "        element.innerHTML = '';\n",
              "        dataTable['output_type'] = 'display_data';\n",
              "        await google.colab.output.renderOutput(dataTable, element);\n",
              "        const docLink = document.createElement('div');\n",
              "        docLink.innerHTML = docLinkHtml;\n",
              "        element.appendChild(docLink);\n",
              "      }\n",
              "    </script>\n",
              "  </div>\n",
              "\n",
              "\n",
              "<div id=\"df-73daed00-85be-4871-9fb2-7604e83a7781\">\n",
              "  <button class=\"colab-df-quickchart\" onclick=\"quickchart('df-73daed00-85be-4871-9fb2-7604e83a7781')\"\n",
              "            title=\"Suggest charts\"\n",
              "            style=\"display:none;\">\n",
              "\n",
              "<svg xmlns=\"http://www.w3.org/2000/svg\" height=\"24px\"viewBox=\"0 0 24 24\"\n",
              "     width=\"24px\">\n",
              "    <g>\n",
              "        <path d=\"M19 3H5c-1.1 0-2 .9-2 2v14c0 1.1.9 2 2 2h14c1.1 0 2-.9 2-2V5c0-1.1-.9-2-2-2zM9 17H7v-7h2v7zm4 0h-2V7h2v10zm4 0h-2v-4h2v4z\"/>\n",
              "    </g>\n",
              "</svg>\n",
              "  </button>\n",
              "\n",
              "<style>\n",
              "  .colab-df-quickchart {\n",
              "      --bg-color: #E8F0FE;\n",
              "      --fill-color: #1967D2;\n",
              "      --hover-bg-color: #E2EBFA;\n",
              "      --hover-fill-color: #174EA6;\n",
              "      --disabled-fill-color: #AAA;\n",
              "      --disabled-bg-color: #DDD;\n",
              "  }\n",
              "\n",
              "  [theme=dark] .colab-df-quickchart {\n",
              "      --bg-color: #3B4455;\n",
              "      --fill-color: #D2E3FC;\n",
              "      --hover-bg-color: #434B5C;\n",
              "      --hover-fill-color: #FFFFFF;\n",
              "      --disabled-bg-color: #3B4455;\n",
              "      --disabled-fill-color: #666;\n",
              "  }\n",
              "\n",
              "  .colab-df-quickchart {\n",
              "    background-color: var(--bg-color);\n",
              "    border: none;\n",
              "    border-radius: 50%;\n",
              "    cursor: pointer;\n",
              "    display: none;\n",
              "    fill: var(--fill-color);\n",
              "    height: 32px;\n",
              "    padding: 0;\n",
              "    width: 32px;\n",
              "  }\n",
              "\n",
              "  .colab-df-quickchart:hover {\n",
              "    background-color: var(--hover-bg-color);\n",
              "    box-shadow: 0 1px 2px rgba(60, 64, 67, 0.3), 0 1px 3px 1px rgba(60, 64, 67, 0.15);\n",
              "    fill: var(--button-hover-fill-color);\n",
              "  }\n",
              "\n",
              "  .colab-df-quickchart-complete:disabled,\n",
              "  .colab-df-quickchart-complete:disabled:hover {\n",
              "    background-color: var(--disabled-bg-color);\n",
              "    fill: var(--disabled-fill-color);\n",
              "    box-shadow: none;\n",
              "  }\n",
              "\n",
              "  .colab-df-spinner {\n",
              "    border: 2px solid var(--fill-color);\n",
              "    border-color: transparent;\n",
              "    border-bottom-color: var(--fill-color);\n",
              "    animation:\n",
              "      spin 1s steps(1) infinite;\n",
              "  }\n",
              "\n",
              "  @keyframes spin {\n",
              "    0% {\n",
              "      border-color: transparent;\n",
              "      border-bottom-color: var(--fill-color);\n",
              "      border-left-color: var(--fill-color);\n",
              "    }\n",
              "    20% {\n",
              "      border-color: transparent;\n",
              "      border-left-color: var(--fill-color);\n",
              "      border-top-color: var(--fill-color);\n",
              "    }\n",
              "    30% {\n",
              "      border-color: transparent;\n",
              "      border-left-color: var(--fill-color);\n",
              "      border-top-color: var(--fill-color);\n",
              "      border-right-color: var(--fill-color);\n",
              "    }\n",
              "    40% {\n",
              "      border-color: transparent;\n",
              "      border-right-color: var(--fill-color);\n",
              "      border-top-color: var(--fill-color);\n",
              "    }\n",
              "    60% {\n",
              "      border-color: transparent;\n",
              "      border-right-color: var(--fill-color);\n",
              "    }\n",
              "    80% {\n",
              "      border-color: transparent;\n",
              "      border-right-color: var(--fill-color);\n",
              "      border-bottom-color: var(--fill-color);\n",
              "    }\n",
              "    90% {\n",
              "      border-color: transparent;\n",
              "      border-bottom-color: var(--fill-color);\n",
              "    }\n",
              "  }\n",
              "</style>\n",
              "\n",
              "  <script>\n",
              "    async function quickchart(key) {\n",
              "      const quickchartButtonEl =\n",
              "        document.querySelector('#' + key + ' button');\n",
              "      quickchartButtonEl.disabled = true;  // To prevent multiple clicks.\n",
              "      quickchartButtonEl.classList.add('colab-df-spinner');\n",
              "      try {\n",
              "        const charts = await google.colab.kernel.invokeFunction(\n",
              "            'suggestCharts', [key], {});\n",
              "      } catch (error) {\n",
              "        console.error('Error during call to suggestCharts:', error);\n",
              "      }\n",
              "      quickchartButtonEl.classList.remove('colab-df-spinner');\n",
              "      quickchartButtonEl.classList.add('colab-df-quickchart-complete');\n",
              "    }\n",
              "    (() => {\n",
              "      let quickchartButtonEl =\n",
              "        document.querySelector('#df-73daed00-85be-4871-9fb2-7604e83a7781 button');\n",
              "      quickchartButtonEl.style.display =\n",
              "        google.colab.kernel.accessAllowed ? 'block' : 'none';\n",
              "    })();\n",
              "  </script>\n",
              "</div>\n",
              "    </div>\n",
              "  </div>\n"
            ]
          },
          "metadata": {},
          "execution_count": 65
        }
      ]
    },
    {
      "cell_type": "markdown",
      "metadata": {
        "id": "CxvYx0ZitNEg"
      },
      "source": [
        "# Challenge 6 - Modeling, Prediction, and Evaluation\n",
        "\n",
        "We'll start off this section by splitting the data to train and test. **Name your 4 variables `X_train`, `X_test`, `y_train`, and `y_test`. Select 80% of the data for training and 20% for testing.**"
      ]
    },
    {
      "cell_type": "code",
      "execution_count": 66,
      "metadata": {
        "id": "4YdGOxtJtNEg"
      },
      "outputs": [],
      "source": [
        "from sklearn.model_selection import train_test_split\n",
        "\n",
        "# Your code here:\n",
        "# First I need to define the features (X) and the target variable (y)\n",
        "X = website_dummy.drop('Type', axis=1)  # Features (where we exclude the 'Type' column)\n",
        "y = website_dummy['Type']  # Target variable ('Type')"
      ]
    },
    {
      "cell_type": "code",
      "source": [
        "X_train, X_test, y_train, y_test = train_test_split(X, y, test_size=0.2, random_state=0)\n"
      ],
      "metadata": {
        "id": "Ft-W9FgI9Lyy"
      },
      "execution_count": 68,
      "outputs": []
    },
    {
      "cell_type": "markdown",
      "metadata": {
        "id": "NWKcgad9tNEg"
      },
      "source": [
        "#### In this lab, we will try two different models and compare our results.\n",
        "\n",
        "The first model we will use in this lab is logistic regression. We have previously learned about logistic regression as a classification algorithm. In the cell below, load `LogisticRegression` from scikit-learn and initialize the model."
      ]
    },
    {
      "cell_type": "code",
      "execution_count": 77,
      "metadata": {
        "id": "cZW0KeFqtNEg"
      },
      "outputs": [],
      "source": [
        "# Your code here:\n",
        "from sklearn.linear_model import LogisticRegression\n",
        "logistic_model = LogisticRegression()"
      ]
    },
    {
      "cell_type": "markdown",
      "metadata": {
        "id": "SNk92393tNEh"
      },
      "source": [
        "Next, fit the model to our training data. We have already separated our data into 4 parts. Use those in your model."
      ]
    },
    {
      "cell_type": "code",
      "execution_count": 78,
      "metadata": {
        "id": "YFU5f1cKtNEh",
        "colab": {
          "base_uri": "https://localhost:8080/",
          "height": 234
        },
        "outputId": "73ca5c3a-f99e-484d-c334-26a8f107da9f"
      },
      "outputs": [
        {
          "output_type": "stream",
          "name": "stderr",
          "text": [
            "/usr/local/lib/python3.10/dist-packages/sklearn/linear_model/_logistic.py:458: ConvergenceWarning: lbfgs failed to converge (status=1):\n",
            "STOP: TOTAL NO. of ITERATIONS REACHED LIMIT.\n",
            "\n",
            "Increase the number of iterations (max_iter) or scale the data as shown in:\n",
            "    https://scikit-learn.org/stable/modules/preprocessing.html\n",
            "Please also refer to the documentation for alternative solver options:\n",
            "    https://scikit-learn.org/stable/modules/linear_model.html#logistic-regression\n",
            "  n_iter_i = _check_optimize_result(\n"
          ]
        },
        {
          "output_type": "execute_result",
          "data": {
            "text/plain": [
              "LogisticRegression()"
            ],
            "text/html": [
              "<style>#sk-container-id-2 {color: black;background-color: white;}#sk-container-id-2 pre{padding: 0;}#sk-container-id-2 div.sk-toggleable {background-color: white;}#sk-container-id-2 label.sk-toggleable__label {cursor: pointer;display: block;width: 100%;margin-bottom: 0;padding: 0.3em;box-sizing: border-box;text-align: center;}#sk-container-id-2 label.sk-toggleable__label-arrow:before {content: \"▸\";float: left;margin-right: 0.25em;color: #696969;}#sk-container-id-2 label.sk-toggleable__label-arrow:hover:before {color: black;}#sk-container-id-2 div.sk-estimator:hover label.sk-toggleable__label-arrow:before {color: black;}#sk-container-id-2 div.sk-toggleable__content {max-height: 0;max-width: 0;overflow: hidden;text-align: left;background-color: #f0f8ff;}#sk-container-id-2 div.sk-toggleable__content pre {margin: 0.2em;color: black;border-radius: 0.25em;background-color: #f0f8ff;}#sk-container-id-2 input.sk-toggleable__control:checked~div.sk-toggleable__content {max-height: 200px;max-width: 100%;overflow: auto;}#sk-container-id-2 input.sk-toggleable__control:checked~label.sk-toggleable__label-arrow:before {content: \"▾\";}#sk-container-id-2 div.sk-estimator input.sk-toggleable__control:checked~label.sk-toggleable__label {background-color: #d4ebff;}#sk-container-id-2 div.sk-label input.sk-toggleable__control:checked~label.sk-toggleable__label {background-color: #d4ebff;}#sk-container-id-2 input.sk-hidden--visually {border: 0;clip: rect(1px 1px 1px 1px);clip: rect(1px, 1px, 1px, 1px);height: 1px;margin: -1px;overflow: hidden;padding: 0;position: absolute;width: 1px;}#sk-container-id-2 div.sk-estimator {font-family: monospace;background-color: #f0f8ff;border: 1px dotted black;border-radius: 0.25em;box-sizing: border-box;margin-bottom: 0.5em;}#sk-container-id-2 div.sk-estimator:hover {background-color: #d4ebff;}#sk-container-id-2 div.sk-parallel-item::after {content: \"\";width: 100%;border-bottom: 1px solid gray;flex-grow: 1;}#sk-container-id-2 div.sk-label:hover label.sk-toggleable__label {background-color: #d4ebff;}#sk-container-id-2 div.sk-serial::before {content: \"\";position: absolute;border-left: 1px solid gray;box-sizing: border-box;top: 0;bottom: 0;left: 50%;z-index: 0;}#sk-container-id-2 div.sk-serial {display: flex;flex-direction: column;align-items: center;background-color: white;padding-right: 0.2em;padding-left: 0.2em;position: relative;}#sk-container-id-2 div.sk-item {position: relative;z-index: 1;}#sk-container-id-2 div.sk-parallel {display: flex;align-items: stretch;justify-content: center;background-color: white;position: relative;}#sk-container-id-2 div.sk-item::before, #sk-container-id-2 div.sk-parallel-item::before {content: \"\";position: absolute;border-left: 1px solid gray;box-sizing: border-box;top: 0;bottom: 0;left: 50%;z-index: -1;}#sk-container-id-2 div.sk-parallel-item {display: flex;flex-direction: column;z-index: 1;position: relative;background-color: white;}#sk-container-id-2 div.sk-parallel-item:first-child::after {align-self: flex-end;width: 50%;}#sk-container-id-2 div.sk-parallel-item:last-child::after {align-self: flex-start;width: 50%;}#sk-container-id-2 div.sk-parallel-item:only-child::after {width: 0;}#sk-container-id-2 div.sk-dashed-wrapped {border: 1px dashed gray;margin: 0 0.4em 0.5em 0.4em;box-sizing: border-box;padding-bottom: 0.4em;background-color: white;}#sk-container-id-2 div.sk-label label {font-family: monospace;font-weight: bold;display: inline-block;line-height: 1.2em;}#sk-container-id-2 div.sk-label-container {text-align: center;}#sk-container-id-2 div.sk-container {/* jupyter's `normalize.less` sets `[hidden] { display: none; }` but bootstrap.min.css set `[hidden] { display: none !important; }` so we also need the `!important` here to be able to override the default hidden behavior on the sphinx rendered scikit-learn.org. See: https://github.com/scikit-learn/scikit-learn/issues/21755 */display: inline-block !important;position: relative;}#sk-container-id-2 div.sk-text-repr-fallback {display: none;}</style><div id=\"sk-container-id-2\" class=\"sk-top-container\"><div class=\"sk-text-repr-fallback\"><pre>LogisticRegression()</pre><b>In a Jupyter environment, please rerun this cell to show the HTML representation or trust the notebook. <br />On GitHub, the HTML representation is unable to render, please try loading this page with nbviewer.org.</b></div><div class=\"sk-container\" hidden><div class=\"sk-item\"><div class=\"sk-estimator sk-toggleable\"><input class=\"sk-toggleable__control sk-hidden--visually\" id=\"sk-estimator-id-2\" type=\"checkbox\" checked><label for=\"sk-estimator-id-2\" class=\"sk-toggleable__label sk-toggleable__label-arrow\">LogisticRegression</label><div class=\"sk-toggleable__content\"><pre>LogisticRegression()</pre></div></div></div></div></div>"
            ]
          },
          "metadata": {},
          "execution_count": 78
        }
      ],
      "source": [
        "# Your code here:\n",
        "logistic_model.fit(X_train, y_train)"
      ]
    },
    {
      "cell_type": "markdown",
      "metadata": {
        "id": "qEw5sQvftNEh"
      },
      "source": [
        "finally, import `confusion_matrix` and `accuracy_score` from `sklearn.metrics` and fit our testing data. Assign the fitted data to `y_pred` and print the confusion matrix as well as the accuracy score"
      ]
    },
    {
      "cell_type": "code",
      "execution_count": 79,
      "metadata": {
        "id": "6jLtcnibtNEh"
      },
      "outputs": [],
      "source": [
        "# Your code here:\n",
        "from sklearn.metrics import confusion_matrix, accuracy_score"
      ]
    },
    {
      "cell_type": "code",
      "source": [
        "y_pred = logistic_model.predict(X_test)"
      ],
      "metadata": {
        "id": "e1iuvopH9q0a"
      },
      "execution_count": 80,
      "outputs": []
    },
    {
      "cell_type": "code",
      "source": [
        "# confusion matrix\n",
        "print(\"Confusion Matrix:\")\n",
        "print(confusion_matrix(y_test, y_pred))\n",
        "\n",
        "# accuracy score\n",
        "accuracy = accuracy_score(y_test, y_pred)\n",
        "print(\"\\nAccuracy Score:\", accuracy)"
      ],
      "metadata": {
        "colab": {
          "base_uri": "https://localhost:8080/"
        },
        "id": "b7556xM69t6S",
        "outputId": "3369aed2-0f2e-49e7-927c-67772464f0b8"
      },
      "execution_count": 82,
      "outputs": [
        {
          "output_type": "stream",
          "name": "stdout",
          "text": [
            "Confusion Matrix:\n",
            "[[312   5]\n",
            " [ 30   9]]\n",
            "\n",
            "Accuracy Score: 0.901685393258427\n"
          ]
        }
      ]
    },
    {
      "cell_type": "markdown",
      "metadata": {
        "id": "s22gv08gtNEh"
      },
      "source": [
        "What are your thoughts on the performance of the model? Write your conclusions below."
      ]
    },
    {
      "cell_type": "code",
      "execution_count": null,
      "metadata": {
        "id": "Q1dwYoYLtNEi"
      },
      "outputs": [],
      "source": [
        "# Your conclusions here:\n",
        "# first lets see the matrix\n",
        "#Confusion Matrix in a bit more detail\n",
        "\n",
        "#True Negatives (TN): 312\n",
        "#False Positives (FP): 5\n",
        "#False Negatives (FN): 30\n",
        "#True Positives (TP): 9\n",
        "\n",
        "# first statement: the model correctly predicted the website types around 90% of the time on the test dataset\n",
        "# Second statement:  essential to note the class imbalance, especially the low number of True Positives (9) compared to True Negatives (312)\n",
        "# conclussion: the imbalance might indicate that the model struggles to correctly predict the positive class (malicious websites)"
      ]
    },
    {
      "cell_type": "markdown",
      "metadata": {
        "id": "qSNlQdVhtNEi"
      },
      "source": [
        "#### Our second algorithm is is K-Nearest Neighbors.\n",
        "\n",
        "Though is it not required, we will fit a model using the training data and then test the performance of the model using the testing data. Start by loading `KNeighborsClassifier` from scikit-learn and then initializing and fitting the model. We'll start off with a model where k=3."
      ]
    },
    {
      "cell_type": "code",
      "execution_count": 84,
      "metadata": {
        "id": "DlBmqCpYtNEi",
        "colab": {
          "base_uri": "https://localhost:8080/",
          "height": 75
        },
        "outputId": "0d1f6dc0-1ed1-45fd-d3c3-6180080acee6"
      },
      "outputs": [
        {
          "output_type": "execute_result",
          "data": {
            "text/plain": [
              "KNeighborsClassifier(n_neighbors=3)"
            ],
            "text/html": [
              "<style>#sk-container-id-3 {color: black;background-color: white;}#sk-container-id-3 pre{padding: 0;}#sk-container-id-3 div.sk-toggleable {background-color: white;}#sk-container-id-3 label.sk-toggleable__label {cursor: pointer;display: block;width: 100%;margin-bottom: 0;padding: 0.3em;box-sizing: border-box;text-align: center;}#sk-container-id-3 label.sk-toggleable__label-arrow:before {content: \"▸\";float: left;margin-right: 0.25em;color: #696969;}#sk-container-id-3 label.sk-toggleable__label-arrow:hover:before {color: black;}#sk-container-id-3 div.sk-estimator:hover label.sk-toggleable__label-arrow:before {color: black;}#sk-container-id-3 div.sk-toggleable__content {max-height: 0;max-width: 0;overflow: hidden;text-align: left;background-color: #f0f8ff;}#sk-container-id-3 div.sk-toggleable__content pre {margin: 0.2em;color: black;border-radius: 0.25em;background-color: #f0f8ff;}#sk-container-id-3 input.sk-toggleable__control:checked~div.sk-toggleable__content {max-height: 200px;max-width: 100%;overflow: auto;}#sk-container-id-3 input.sk-toggleable__control:checked~label.sk-toggleable__label-arrow:before {content: \"▾\";}#sk-container-id-3 div.sk-estimator input.sk-toggleable__control:checked~label.sk-toggleable__label {background-color: #d4ebff;}#sk-container-id-3 div.sk-label input.sk-toggleable__control:checked~label.sk-toggleable__label {background-color: #d4ebff;}#sk-container-id-3 input.sk-hidden--visually {border: 0;clip: rect(1px 1px 1px 1px);clip: rect(1px, 1px, 1px, 1px);height: 1px;margin: -1px;overflow: hidden;padding: 0;position: absolute;width: 1px;}#sk-container-id-3 div.sk-estimator {font-family: monospace;background-color: #f0f8ff;border: 1px dotted black;border-radius: 0.25em;box-sizing: border-box;margin-bottom: 0.5em;}#sk-container-id-3 div.sk-estimator:hover {background-color: #d4ebff;}#sk-container-id-3 div.sk-parallel-item::after {content: \"\";width: 100%;border-bottom: 1px solid gray;flex-grow: 1;}#sk-container-id-3 div.sk-label:hover label.sk-toggleable__label {background-color: #d4ebff;}#sk-container-id-3 div.sk-serial::before {content: \"\";position: absolute;border-left: 1px solid gray;box-sizing: border-box;top: 0;bottom: 0;left: 50%;z-index: 0;}#sk-container-id-3 div.sk-serial {display: flex;flex-direction: column;align-items: center;background-color: white;padding-right: 0.2em;padding-left: 0.2em;position: relative;}#sk-container-id-3 div.sk-item {position: relative;z-index: 1;}#sk-container-id-3 div.sk-parallel {display: flex;align-items: stretch;justify-content: center;background-color: white;position: relative;}#sk-container-id-3 div.sk-item::before, #sk-container-id-3 div.sk-parallel-item::before {content: \"\";position: absolute;border-left: 1px solid gray;box-sizing: border-box;top: 0;bottom: 0;left: 50%;z-index: -1;}#sk-container-id-3 div.sk-parallel-item {display: flex;flex-direction: column;z-index: 1;position: relative;background-color: white;}#sk-container-id-3 div.sk-parallel-item:first-child::after {align-self: flex-end;width: 50%;}#sk-container-id-3 div.sk-parallel-item:last-child::after {align-self: flex-start;width: 50%;}#sk-container-id-3 div.sk-parallel-item:only-child::after {width: 0;}#sk-container-id-3 div.sk-dashed-wrapped {border: 1px dashed gray;margin: 0 0.4em 0.5em 0.4em;box-sizing: border-box;padding-bottom: 0.4em;background-color: white;}#sk-container-id-3 div.sk-label label {font-family: monospace;font-weight: bold;display: inline-block;line-height: 1.2em;}#sk-container-id-3 div.sk-label-container {text-align: center;}#sk-container-id-3 div.sk-container {/* jupyter's `normalize.less` sets `[hidden] { display: none; }` but bootstrap.min.css set `[hidden] { display: none !important; }` so we also need the `!important` here to be able to override the default hidden behavior on the sphinx rendered scikit-learn.org. See: https://github.com/scikit-learn/scikit-learn/issues/21755 */display: inline-block !important;position: relative;}#sk-container-id-3 div.sk-text-repr-fallback {display: none;}</style><div id=\"sk-container-id-3\" class=\"sk-top-container\"><div class=\"sk-text-repr-fallback\"><pre>KNeighborsClassifier(n_neighbors=3)</pre><b>In a Jupyter environment, please rerun this cell to show the HTML representation or trust the notebook. <br />On GitHub, the HTML representation is unable to render, please try loading this page with nbviewer.org.</b></div><div class=\"sk-container\" hidden><div class=\"sk-item\"><div class=\"sk-estimator sk-toggleable\"><input class=\"sk-toggleable__control sk-hidden--visually\" id=\"sk-estimator-id-3\" type=\"checkbox\" checked><label for=\"sk-estimator-id-3\" class=\"sk-toggleable__label sk-toggleable__label-arrow\">KNeighborsClassifier</label><div class=\"sk-toggleable__content\"><pre>KNeighborsClassifier(n_neighbors=3)</pre></div></div></div></div></div>"
            ]
          },
          "metadata": {},
          "execution_count": 84
        }
      ],
      "source": [
        "# Your code here:\n",
        "from sklearn.neighbors import KNeighborsClassifier\n",
        "knn_model = KNeighborsClassifier(n_neighbors=3)\n",
        "knn_model.fit(X_train, y_train)"
      ]
    },
    {
      "cell_type": "markdown",
      "metadata": {
        "id": "ZqCHnlIRtNEi"
      },
      "source": [
        "To test your model, compute the predicted values for the testing sample and print the confusion matrix as well as the accuracy score."
      ]
    },
    {
      "cell_type": "code",
      "execution_count": 85,
      "metadata": {
        "id": "cZUSWo3qtNEi"
      },
      "outputs": [],
      "source": [
        "# Your code here (same as above)\n",
        "y_pred_knn = knn_model.predict(X_test)"
      ]
    },
    {
      "cell_type": "code",
      "source": [
        "# confusion matrix\n",
        "print(\"Confusion Matrix for KNN:\")\n",
        "print(confusion_matrix(y_test, y_pred_knn))\n",
        "\n",
        "# accuracy score\n",
        "accuracy_knn = accuracy_score(y_test, y_pred_knn)\n",
        "print(\"\\nAccuracy Score for KNN:\", accuracy_knn)"
      ],
      "metadata": {
        "colab": {
          "base_uri": "https://localhost:8080/"
        },
        "id": "uOgR_LAy-l23",
        "outputId": "3aa55246-5f39-430e-a2cc-677dbe7e20ef"
      },
      "execution_count": 86,
      "outputs": [
        {
          "output_type": "stream",
          "name": "stdout",
          "text": [
            "Confusion Matrix for KNN:\n",
            "[[302  15]\n",
            " [ 10  29]]\n",
            "\n",
            "Accuracy Score for KNN: 0.9297752808988764\n"
          ]
        }
      ]
    },
    {
      "cell_type": "markdown",
      "metadata": {
        "id": "unYQPq_btNEi"
      },
      "source": [
        "#### We'll create another K-Nearest Neighbors model with k=5.\n",
        "\n",
        "Initialize and fit the model below and print the confusion matrix and the accuracy score."
      ]
    },
    {
      "cell_type": "code",
      "execution_count": 87,
      "metadata": {
        "id": "PiyWTH55tNEi",
        "colab": {
          "base_uri": "https://localhost:8080/",
          "height": 75
        },
        "outputId": "6389781d-66f8-48d1-fd54-582b89230fc9"
      },
      "outputs": [
        {
          "output_type": "execute_result",
          "data": {
            "text/plain": [
              "KNeighborsClassifier()"
            ],
            "text/html": [
              "<style>#sk-container-id-4 {color: black;background-color: white;}#sk-container-id-4 pre{padding: 0;}#sk-container-id-4 div.sk-toggleable {background-color: white;}#sk-container-id-4 label.sk-toggleable__label {cursor: pointer;display: block;width: 100%;margin-bottom: 0;padding: 0.3em;box-sizing: border-box;text-align: center;}#sk-container-id-4 label.sk-toggleable__label-arrow:before {content: \"▸\";float: left;margin-right: 0.25em;color: #696969;}#sk-container-id-4 label.sk-toggleable__label-arrow:hover:before {color: black;}#sk-container-id-4 div.sk-estimator:hover label.sk-toggleable__label-arrow:before {color: black;}#sk-container-id-4 div.sk-toggleable__content {max-height: 0;max-width: 0;overflow: hidden;text-align: left;background-color: #f0f8ff;}#sk-container-id-4 div.sk-toggleable__content pre {margin: 0.2em;color: black;border-radius: 0.25em;background-color: #f0f8ff;}#sk-container-id-4 input.sk-toggleable__control:checked~div.sk-toggleable__content {max-height: 200px;max-width: 100%;overflow: auto;}#sk-container-id-4 input.sk-toggleable__control:checked~label.sk-toggleable__label-arrow:before {content: \"▾\";}#sk-container-id-4 div.sk-estimator input.sk-toggleable__control:checked~label.sk-toggleable__label {background-color: #d4ebff;}#sk-container-id-4 div.sk-label input.sk-toggleable__control:checked~label.sk-toggleable__label {background-color: #d4ebff;}#sk-container-id-4 input.sk-hidden--visually {border: 0;clip: rect(1px 1px 1px 1px);clip: rect(1px, 1px, 1px, 1px);height: 1px;margin: -1px;overflow: hidden;padding: 0;position: absolute;width: 1px;}#sk-container-id-4 div.sk-estimator {font-family: monospace;background-color: #f0f8ff;border: 1px dotted black;border-radius: 0.25em;box-sizing: border-box;margin-bottom: 0.5em;}#sk-container-id-4 div.sk-estimator:hover {background-color: #d4ebff;}#sk-container-id-4 div.sk-parallel-item::after {content: \"\";width: 100%;border-bottom: 1px solid gray;flex-grow: 1;}#sk-container-id-4 div.sk-label:hover label.sk-toggleable__label {background-color: #d4ebff;}#sk-container-id-4 div.sk-serial::before {content: \"\";position: absolute;border-left: 1px solid gray;box-sizing: border-box;top: 0;bottom: 0;left: 50%;z-index: 0;}#sk-container-id-4 div.sk-serial {display: flex;flex-direction: column;align-items: center;background-color: white;padding-right: 0.2em;padding-left: 0.2em;position: relative;}#sk-container-id-4 div.sk-item {position: relative;z-index: 1;}#sk-container-id-4 div.sk-parallel {display: flex;align-items: stretch;justify-content: center;background-color: white;position: relative;}#sk-container-id-4 div.sk-item::before, #sk-container-id-4 div.sk-parallel-item::before {content: \"\";position: absolute;border-left: 1px solid gray;box-sizing: border-box;top: 0;bottom: 0;left: 50%;z-index: -1;}#sk-container-id-4 div.sk-parallel-item {display: flex;flex-direction: column;z-index: 1;position: relative;background-color: white;}#sk-container-id-4 div.sk-parallel-item:first-child::after {align-self: flex-end;width: 50%;}#sk-container-id-4 div.sk-parallel-item:last-child::after {align-self: flex-start;width: 50%;}#sk-container-id-4 div.sk-parallel-item:only-child::after {width: 0;}#sk-container-id-4 div.sk-dashed-wrapped {border: 1px dashed gray;margin: 0 0.4em 0.5em 0.4em;box-sizing: border-box;padding-bottom: 0.4em;background-color: white;}#sk-container-id-4 div.sk-label label {font-family: monospace;font-weight: bold;display: inline-block;line-height: 1.2em;}#sk-container-id-4 div.sk-label-container {text-align: center;}#sk-container-id-4 div.sk-container {/* jupyter's `normalize.less` sets `[hidden] { display: none; }` but bootstrap.min.css set `[hidden] { display: none !important; }` so we also need the `!important` here to be able to override the default hidden behavior on the sphinx rendered scikit-learn.org. See: https://github.com/scikit-learn/scikit-learn/issues/21755 */display: inline-block !important;position: relative;}#sk-container-id-4 div.sk-text-repr-fallback {display: none;}</style><div id=\"sk-container-id-4\" class=\"sk-top-container\"><div class=\"sk-text-repr-fallback\"><pre>KNeighborsClassifier()</pre><b>In a Jupyter environment, please rerun this cell to show the HTML representation or trust the notebook. <br />On GitHub, the HTML representation is unable to render, please try loading this page with nbviewer.org.</b></div><div class=\"sk-container\" hidden><div class=\"sk-item\"><div class=\"sk-estimator sk-toggleable\"><input class=\"sk-toggleable__control sk-hidden--visually\" id=\"sk-estimator-id-4\" type=\"checkbox\" checked><label for=\"sk-estimator-id-4\" class=\"sk-toggleable__label sk-toggleable__label-arrow\">KNeighborsClassifier</label><div class=\"sk-toggleable__content\"><pre>KNeighborsClassifier()</pre></div></div></div></div></div>"
            ]
          },
          "metadata": {},
          "execution_count": 87
        }
      ],
      "source": [
        "# Your code here:\n",
        "knn_model_5 = KNeighborsClassifier(n_neighbors=5)\n",
        "knn_model_5.fit(X_train, y_train)"
      ]
    },
    {
      "cell_type": "code",
      "source": [
        "y_pred_knn_5 = knn_model_5.predict(X_test)"
      ],
      "metadata": {
        "id": "ajgc4xaL-yds"
      },
      "execution_count": 88,
      "outputs": []
    },
    {
      "cell_type": "code",
      "source": [
        "# confusion matrix\n",
        "print(\"Confusion Matrix for KNN with k=5:\")\n",
        "print(confusion_matrix(y_test, y_pred_knn_5))\n",
        "\n",
        "# accuracy score\n",
        "accuracy_knn_5 = accuracy_score(y_test, y_pred_knn_5)\n",
        "print(\"\\nAccuracy Score for KNN with k=5:\", accuracy_knn_5)"
      ],
      "metadata": {
        "colab": {
          "base_uri": "https://localhost:8080/"
        },
        "id": "-6_fYwo7-0db",
        "outputId": "8acfb6e3-2343-471e-b807-6a0b0f9c1727"
      },
      "execution_count": 90,
      "outputs": [
        {
          "output_type": "stream",
          "name": "stdout",
          "text": [
            "Confusion Matrix for KNN with k=5:\n",
            "[[308   9]\n",
            " [ 13  26]]\n",
            "\n",
            "Accuracy Score for KNN with k=5: 0.9382022471910112\n"
          ]
        }
      ]
    },
    {
      "cell_type": "markdown",
      "metadata": {
        "id": "xJ08rACjtNEj"
      },
      "source": [
        "Did you see an improvement in the confusion matrix when increasing k to 5? Did you see an improvement in the accuracy score? Write your conclusions below."
      ]
    },
    {
      "cell_type": "code",
      "execution_count": null,
      "metadata": {
        "id": "5qHg9AGftNEj"
      },
      "outputs": [],
      "source": [
        "# Your conclusions here:\n",
        "# in the second model we observe a slight improvement of false positives and false negatives --> better balance\n",
        "# the accuracy is also better\n"
      ]
    },
    {
      "cell_type": "markdown",
      "metadata": {
        "id": "9XRhUyWwtNEj"
      },
      "source": [
        "# Bonus Challenge - Feature Scaling\n",
        "\n",
        "Problem-solving in machine learning is iterative. You can improve your model prediction with various techniques (there is a sweetspot for the time you spend and the improvement you receive though). Now you've completed only one iteration of ML analysis. There are more iterations you can conduct to make improvements. In order to be able to do that, you will need deeper knowledge in statistics and master more data analysis techniques. In this bootcamp, we don't have time to achieve that advanced goal. But you will make constant efforts after the bootcamp to eventually get there.\n",
        "\n",
        "However, now we do want you to learn one of the advanced techniques which is called *feature scaling*. The idea of feature scaling is to standardize/normalize the range of independent variables or features of the data. This can make the outliers more apparent so that you can remove them. This step needs to happen during Challenge 6 after you split the training and test data because you don't want to split the data again which makes it impossible to compare your results with and without feature scaling. For general concepts about feature scaling, click [here](https://en.wikipedia.org/wiki/Feature_scaling). To read deeper, click [here](https://medium.com/greyatom/why-how-and-when-to-scale-your-features-4b30ab09db5e).\n",
        "\n",
        "In the next cell, attempt to improve your model prediction accuracy by means of feature scaling. A library you can utilize is `sklearn.preprocessing.RobustScaler` ([documentation](https://scikit-learn.org/stable/modules/generated/sklearn.preprocessing.RobustScaler.html)). You'll use the `RobustScaler` to fit and transform your `X_train`, then transform `X_test`. You will use logistic regression to fit and predict your transformed data and obtain the accuracy score in the same way. Compare the accuracy score with your normalized data with the previous accuracy data. Is there an improvement?"
      ]
    },
    {
      "cell_type": "code",
      "execution_count": 93,
      "metadata": {
        "id": "94hGNG8EtNEj"
      },
      "outputs": [],
      "source": [
        "# Your code here\n",
        "from sklearn.preprocessing import RobustScaler\n",
        "scaler = RobustScaler()"
      ]
    },
    {
      "cell_type": "code",
      "source": [
        "# Fit / transform the training data (X_train)\n",
        "X_train_scaled = scaler.fit_transform(X_train)\n",
        "\n",
        "# Transform the testing data (X_test)\n",
        "X_test_scaled = scaler.transform(X_test)"
      ],
      "metadata": {
        "id": "ZaQb1Px9_f7q"
      },
      "execution_count": 94,
      "outputs": []
    },
    {
      "cell_type": "code",
      "source": [
        "# logistic regression with the scaled data\n",
        "logistic_model_scaled = LogisticRegression(max_iter=500)  # You can adjust parameters as needed\n",
        "logistic_model_scaled.fit(X_train_scaled, y_train)\n"
      ],
      "metadata": {
        "colab": {
          "base_uri": "https://localhost:8080/",
          "height": 75
        },
        "id": "kbcX9PQo_ld-",
        "outputId": "67c52164-9837-4dc0-debc-a8bbccbfb899"
      },
      "execution_count": 95,
      "outputs": [
        {
          "output_type": "execute_result",
          "data": {
            "text/plain": [
              "LogisticRegression(max_iter=500)"
            ],
            "text/html": [
              "<style>#sk-container-id-5 {color: black;background-color: white;}#sk-container-id-5 pre{padding: 0;}#sk-container-id-5 div.sk-toggleable {background-color: white;}#sk-container-id-5 label.sk-toggleable__label {cursor: pointer;display: block;width: 100%;margin-bottom: 0;padding: 0.3em;box-sizing: border-box;text-align: center;}#sk-container-id-5 label.sk-toggleable__label-arrow:before {content: \"▸\";float: left;margin-right: 0.25em;color: #696969;}#sk-container-id-5 label.sk-toggleable__label-arrow:hover:before {color: black;}#sk-container-id-5 div.sk-estimator:hover label.sk-toggleable__label-arrow:before {color: black;}#sk-container-id-5 div.sk-toggleable__content {max-height: 0;max-width: 0;overflow: hidden;text-align: left;background-color: #f0f8ff;}#sk-container-id-5 div.sk-toggleable__content pre {margin: 0.2em;color: black;border-radius: 0.25em;background-color: #f0f8ff;}#sk-container-id-5 input.sk-toggleable__control:checked~div.sk-toggleable__content {max-height: 200px;max-width: 100%;overflow: auto;}#sk-container-id-5 input.sk-toggleable__control:checked~label.sk-toggleable__label-arrow:before {content: \"▾\";}#sk-container-id-5 div.sk-estimator input.sk-toggleable__control:checked~label.sk-toggleable__label {background-color: #d4ebff;}#sk-container-id-5 div.sk-label input.sk-toggleable__control:checked~label.sk-toggleable__label {background-color: #d4ebff;}#sk-container-id-5 input.sk-hidden--visually {border: 0;clip: rect(1px 1px 1px 1px);clip: rect(1px, 1px, 1px, 1px);height: 1px;margin: -1px;overflow: hidden;padding: 0;position: absolute;width: 1px;}#sk-container-id-5 div.sk-estimator {font-family: monospace;background-color: #f0f8ff;border: 1px dotted black;border-radius: 0.25em;box-sizing: border-box;margin-bottom: 0.5em;}#sk-container-id-5 div.sk-estimator:hover {background-color: #d4ebff;}#sk-container-id-5 div.sk-parallel-item::after {content: \"\";width: 100%;border-bottom: 1px solid gray;flex-grow: 1;}#sk-container-id-5 div.sk-label:hover label.sk-toggleable__label {background-color: #d4ebff;}#sk-container-id-5 div.sk-serial::before {content: \"\";position: absolute;border-left: 1px solid gray;box-sizing: border-box;top: 0;bottom: 0;left: 50%;z-index: 0;}#sk-container-id-5 div.sk-serial {display: flex;flex-direction: column;align-items: center;background-color: white;padding-right: 0.2em;padding-left: 0.2em;position: relative;}#sk-container-id-5 div.sk-item {position: relative;z-index: 1;}#sk-container-id-5 div.sk-parallel {display: flex;align-items: stretch;justify-content: center;background-color: white;position: relative;}#sk-container-id-5 div.sk-item::before, #sk-container-id-5 div.sk-parallel-item::before {content: \"\";position: absolute;border-left: 1px solid gray;box-sizing: border-box;top: 0;bottom: 0;left: 50%;z-index: -1;}#sk-container-id-5 div.sk-parallel-item {display: flex;flex-direction: column;z-index: 1;position: relative;background-color: white;}#sk-container-id-5 div.sk-parallel-item:first-child::after {align-self: flex-end;width: 50%;}#sk-container-id-5 div.sk-parallel-item:last-child::after {align-self: flex-start;width: 50%;}#sk-container-id-5 div.sk-parallel-item:only-child::after {width: 0;}#sk-container-id-5 div.sk-dashed-wrapped {border: 1px dashed gray;margin: 0 0.4em 0.5em 0.4em;box-sizing: border-box;padding-bottom: 0.4em;background-color: white;}#sk-container-id-5 div.sk-label label {font-family: monospace;font-weight: bold;display: inline-block;line-height: 1.2em;}#sk-container-id-5 div.sk-label-container {text-align: center;}#sk-container-id-5 div.sk-container {/* jupyter's `normalize.less` sets `[hidden] { display: none; }` but bootstrap.min.css set `[hidden] { display: none !important; }` so we also need the `!important` here to be able to override the default hidden behavior on the sphinx rendered scikit-learn.org. See: https://github.com/scikit-learn/scikit-learn/issues/21755 */display: inline-block !important;position: relative;}#sk-container-id-5 div.sk-text-repr-fallback {display: none;}</style><div id=\"sk-container-id-5\" class=\"sk-top-container\"><div class=\"sk-text-repr-fallback\"><pre>LogisticRegression(max_iter=500)</pre><b>In a Jupyter environment, please rerun this cell to show the HTML representation or trust the notebook. <br />On GitHub, the HTML representation is unable to render, please try loading this page with nbviewer.org.</b></div><div class=\"sk-container\" hidden><div class=\"sk-item\"><div class=\"sk-estimator sk-toggleable\"><input class=\"sk-toggleable__control sk-hidden--visually\" id=\"sk-estimator-id-5\" type=\"checkbox\" checked><label for=\"sk-estimator-id-5\" class=\"sk-toggleable__label sk-toggleable__label-arrow\">LogisticRegression</label><div class=\"sk-toggleable__content\"><pre>LogisticRegression(max_iter=500)</pre></div></div></div></div></div>"
            ]
          },
          "metadata": {},
          "execution_count": 95
        }
      ]
    },
    {
      "cell_type": "code",
      "source": [
        "# scaled test set prediction\n",
        "y_pred_scaled = logistic_model_scaled.predict(X_test_scaled)"
      ],
      "metadata": {
        "id": "ume4_tAy_nqe"
      },
      "execution_count": 96,
      "outputs": []
    },
    {
      "cell_type": "code",
      "source": [
        "# Calculating and printing the accuracy score for scaled data\n",
        "accuracy_scaled = accuracy_score(y_test, y_pred_scaled)\n",
        "print(\"Accuracy Score with Feature Scaling:\", accuracy_scaled)"
      ],
      "metadata": {
        "colab": {
          "base_uri": "https://localhost:8080/"
        },
        "id": "j7r6MQWQ_rXO",
        "outputId": "73b4c181-0a27-42f1-8262-ed24287e464a"
      },
      "execution_count": 97,
      "outputs": [
        {
          "output_type": "stream",
          "name": "stdout",
          "text": [
            "Accuracy Score with Feature Scaling: 0.9466292134831461\n"
          ]
        }
      ]
    },
    {
      "cell_type": "code",
      "source": [
        "# better predicion - accurace went up by 1%"
      ],
      "metadata": {
        "id": "xFSf8u6g_tca"
      },
      "execution_count": null,
      "outputs": []
    }
  ],
  "metadata": {
    "kernelspec": {
      "display_name": "ironhack-3.7",
      "language": "python",
      "name": "ironhack-3.7"
    },
    "language_info": {
      "codemirror_mode": {
        "name": "ipython",
        "version": 3
      },
      "file_extension": ".py",
      "mimetype": "text/x-python",
      "name": "python",
      "nbconvert_exporter": "python",
      "pygments_lexer": "ipython3",
      "version": "3.7.3"
    },
    "colab": {
      "provenance": []
    }
  },
  "nbformat": 4,
  "nbformat_minor": 0
}